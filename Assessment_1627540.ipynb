{
  "cells": [
    {
      "cell_type": "markdown",
      "metadata": {
        "id": "view-in-github",
        "colab_type": "text"
      },
      "source": [
        "<a href=\"https://colab.research.google.com/github/JAMILA09ALI/Machine-Vision-Midterm/blob/main/Assessment_1627540.ipynb\" target=\"_parent\"><img src=\"https://colab.research.google.com/assets/colab-badge.svg\" alt=\"Open In Colab\"/></a>"
      ]
    },
    {
      "cell_type": "markdown",
      "metadata": {
        "id": "EpRNh1-L8zuk"
      },
      "source": [
        "## Assessment / Midterm: Machine Vision and Deep Learning\n",
        "<span style=\"color:blue\">\n",
        "    \n",
        "1) Answer all questions\n",
        "    \n",
        "2) This assessment is open-book. You are allowed to refer to any references including online materials, books, notes, codes, github links, etc\n",
        "\n",
        "3) Copy this notebook to your google drive (click **FILE** > **save a copy in Drive**)\n",
        "\n",
        "4) Upload the answer notebook & trained model (for Question 3) to your github. \n",
        "\n",
        "5) Submit the assessment by sharing the link to your github containing the answers. \n",
        "    \n",
        "</span>"
      ]
    },
    {
      "cell_type": "markdown",
      "metadata": {
        "id": "VFBjQbJlzMl_"
      },
      "source": [
        "**QUESTION 1 [15 marks]**\n",
        "\n",
        "a) Let *k*, *s* and *p* be 4, 2 and 1, respectively. What will be the shape of the output of the convolutional layer? (2 marks)\n",
        "\n",
        ">>import torch \\\n",
        "import torch.nn as nn \\\n",
        "input_img = torch.rand(1,3,10,10) \\\n",
        "layer = nn.Conv2d(in_channels=3, out_channels=12, kernel_size=*k*, stride=*s*, padding=*p*)\n",
        "\n",
        "<span style=\"color:blue\">\n",
        "    answer: The shape of the output is [1, 12, 5, 5]\n",
        "</span>"
      ]
    },
    {
      "cell_type": "markdown",
      "metadata": {
        "id": "I7WgynOGzMl_"
      },
      "source": [
        "b) Batch Normalization (BN) normalizes the mean and standard deviation for each: (tick X for the correct answer) (2 marks)\n",
        "\n",
        " - [x] Individual feature map\n",
        " - [ ] Instance in the mini-batch\n",
        " - [ ] Spatial dimension    "
      ]
    },
    {
      "cell_type": "markdown",
      "metadata": {
        "id": "d7HJ5WzizMmA"
      },
      "source": [
        "c) Which one of the following is not an advantage of Batch Normalization (BN)? (tick X for the correct answer) (2 marks)\n",
        "\n",
        "- [ ] BN accelerates the training of deep neural networks and tackles the vanishing gradient problem.\n",
        "- [ ] For every input mini-batch, we calculate different statistics. This introduces some sort of regularization.\n",
        "- [ ] BN reduces the dependence of gradients on the scale of the parameters or of their initial values.\n",
        "- [x] BN needs a much slower learning rate for the total architecture to converge."
      ]
    },
    {
      "cell_type": "markdown",
      "metadata": {
        "id": "Km6wFNmYzMmA"
      },
      "source": [
        "d) Choose the correct statement. (tick X for the correct answer) (2 marks)\n",
        "\n",
        "- [x] A larger kernel is preferred for information that resides globally, and a smaller kernel is preferred for information that is distributed locally.\n",
        "- [ ] A larger kernel is preferred for information that resides locally, and a smaller kernel is preferred for information that is distributed globally."
      ]
    },
    {
      "cell_type": "markdown",
      "metadata": {
        "id": "x7icH9fLzMmB"
      },
      "source": [
        "e) In the following network, how many learnable parameters (weights) are there? (2 marks)"
      ]
    },
    {
      "cell_type": "code",
      "execution_count": null,
      "metadata": {
        "id": "2zAKDpJWzMmB"
      },
      "outputs": [],
      "source": [
        "model = nn.Sequential(\n",
        "        nn.Linear(3,20),\n",
        "        nn.ReLU(),\n",
        "        nn.Linear(20,2)\n",
        "    )"
      ]
    },
    {
      "cell_type": "markdown",
      "metadata": {
        "id": "QM4ByV8GzMmE"
      },
      "source": [
        "<span style=\"color:blue\">\n",
        "    answer: There are 20 learnable parameters.\n",
        "</span>"
      ]
    },
    {
      "cell_type": "markdown",
      "metadata": {
        "id": "5iAtOXC1zMmF"
      },
      "source": [
        "f) Which of the following statements are true about deep neural networks? (tick X for the correct answer) (2 marks)\n",
        "\n",
        "- [x] Deep neural networks usually require a big amount of data to be properly trained.\n",
        "- [ ] They can be fooled by adversarial/ noisy examples.\n",
        "- [ ] They are difficult to interpret and understand.\n",
        "- [ ] They can still be subject to biases.\n",
        "- [ ] They fail to understand the context of the data that they are handling.\n",
        "- [ ] They perform very well on individual tasks but fail to generalize to many different tasks."
      ]
    },
    {
      "cell_type": "markdown",
      "metadata": {
        "id": "engo9aabzMmF"
      },
      "source": [
        "g) Run the code in the next cell. "
      ]
    },
    {
      "cell_type": "code",
      "execution_count": null,
      "metadata": {
        "colab": {
          "base_uri": "https://localhost:8080/",
          "height": 281
        },
        "id": "uRHoL6rMzMmG",
        "outputId": "fa7d66f1-8a40-47e8-b8fe-c022cba64af6"
      },
      "outputs": [
        {
          "output_type": "display_data",
          "data": {
            "text/plain": [
              "<Figure size 432x288 with 1 Axes>"
            ],
            "image/png": "[encoded data removed]"
          },
          "metadata": {
            "needs_background": "light"
          }
        }
      ],
      "source": [
        "# import numpy as np\n",
        "from sklearn.datasets import make_moons\n",
        "import matplotlib.pyplot as plt\n",
        "%matplotlib inline\n",
        "\n",
        "# generate synthetic data in 2D\n",
        "X, Y = make_moons(500, noise=0.2)\n",
        "\n",
        "# plot the data\n",
        "plt.scatter(X[:,0], X[:,1], c=Y)\n",
        "plt.title('2D Data')\n",
        "plt.show()"
      ]
    },
    {
      "cell_type": "markdown",
      "metadata": {
        "id": "7JcXPSvFzMmG"
      },
      "source": [
        "Can this data be correctly separable using the classifier below? Why? (3 marks)\n",
        "\n",
        "model = nn.Sequential( \\\n",
        "    nn.Linear(n_input_dim, n_output), \\\n",
        "    nn.Sigmoid() \\\n",
        "    )\n",
        "    \n",
        "<span style=\"color:blue\">\n",
        "    answer:\tYes, it can be separated because it uses a sequential order of individual layers\n",
        "</span>"
      ]
    },
    {
      "cell_type": "markdown",
      "metadata": {
        "id": "kjRauIpz8zun"
      },
      "source": [
        "**QUESTION 2 [50 marks]** \n",
        "\n",
        "The COVID-19 pandemic continues to have a devastating effect on the health and well-being of the global population. A critical step in the fight against COVID-19 is effective screening of infected patients, with one of the key screening approaches being radiology examination using chest radiography. As a deep learning engineer, you are tasked to classify a dataset of X-ray images as either \"normal\", \"covid\" or \"viral pneumonia\". Use the chest X-ray dataset publicly available at https://www.kaggle.com/datasets/pranavraikokte/covid19-image-dataset to answer the following questions.\n"
      ]
    },
    {
      "cell_type": "markdown",
      "metadata": {
        "id": "Jzzvkxpn8zuo"
      },
      "source": [
        "a) Train a feedforward neural network to solve the classification problem. Please include: **(10 marks)**\n",
        "\n",
        "    1) The dataloader to load the train and test datasets.\n",
        "\n",
        "    2) The model definition (either using sequential method OR pytorch class method).\n",
        "\n",
        "    3) The training loop.\n",
        "\n",
        "    4) Output the mean accuracy for the whole testing dataset.\n",
        "    \n",
        "    5) The hyperparameters are:\n",
        "        i  - architecture: 2 hidden layers\n",
        "        ii - input size  : 32x32 "
      ]
    },
    {
      "cell_type": "code",
      "source": [
        "import torch, torchvision\n",
        "import torch.nn as nn\n",
        "import torch.nn.functional as F\n",
        "import torch.optim as optim\n",
        "import time\n",
        "import numpy as np\n",
        "import matplotlib.pyplot as plt\n",
        "import os\n",
        "import cv2\n",
        "import glob\n",
        "import numpy\n",
        "import random\n",
        "\n",
        "from PIL import Image\n",
        "from torch.utils.data import Dataset\n",
        "from torch.utils.data import DataLoader\n",
        "from torchvision import datasets, models, transforms\n",
        "from torchsummary import summary"
      ],
      "metadata": {
        "id": "TdzSMzK29Nuz"
      },
      "execution_count": 1,
      "outputs": []
    },
    {
      "cell_type": "code",
      "source": [
        "# Applying Transforms to the Data\n",
        "import torchvision\n",
        "import torchvision.transforms as transforms\n",
        "im_size=32;\n",
        "image_transforms = {\n",
        "    'train': transforms.Compose([\n",
        "        transforms.Resize((im_size, im_size)),\n",
        "        #transforms.RandomResizedCrop(size=256, scale=(0.8, 1.0)),\n",
        "        #transforms.RandomRotation(degrees=15),\n",
        "        #transforms.RandomHorizontalFlip(),\n",
        "        #transforms.CenterCrop(size=224),\n",
        "        transforms.ToTensor(),\n",
        "        #transforms.Normalize([0.5, 0.5, 0.5],[0.5, 0.5, 0.5])\n",
        "        transforms.Normalize([0.485, 0.456, 0.406],\n",
        "                             [0.229, 0.224, 0.225])\n",
        "    ]),\n",
        "    'test': transforms.Compose([\n",
        "        transforms.Resize((im_size, im_size)),\n",
        "        #transforms.CenterCrop(size=224),\n",
        "        transforms.ToTensor(),\n",
        "        #transforms.Normalize([0.5, 0.5, 0.5], [0.5, 0.5, 0.5])\n",
        "        transforms.Normalize([0.485, 0.456, 0.406],\n",
        "                             [0.229, 0.224, 0.225])\n",
        "    ])\n",
        "}\n",
        "classes = ('Viral Pneumonia', 'Normal', 'Covid')"
      ],
      "metadata": {
        "id": "nPE6ikVG9R3i"
      },
      "execution_count": 30,
      "outputs": []
    },
    {
      "cell_type": "code",
      "source": [
        "# Load the Data\n",
        "\n",
        "# Set train and valid directory paths\n",
        "\n",
        "from google.colab import drive\n",
        "drive.mount('/content/gdrive')\n",
        "\n",
        "dataset = '/content/gdrive/My Drive/covid/Covid19-dataset'\n",
        "\n",
        "train_directory = os.path.join(dataset, 'train')\n",
        "test_directory = os.path.join(dataset, 'test')\n",
        "\n",
        "# Batch size\n",
        "batchSize = 4\n",
        "\n",
        "# Number of classes\n",
        "num_classes = len(os.listdir(train_directory))\n",
        "print(num_classes)\n",
        "\n",
        "# Load Data from folders\n",
        "data = {\n",
        "    'train': datasets.ImageFolder(root=train_directory, transform=image_transforms['train']),\n",
        "\n",
        "    'test': datasets.ImageFolder(root=test_directory, transform=image_transforms['test'])\n",
        "}\n",
        "\n",
        "# Get a mapping of the indices to the class names, in order to see the output classes of the test images.\n",
        "idx_to_class = {v: k for k, v in data['train'].class_to_idx.items()}\n",
        "print(idx_to_class)"
      ],
      "metadata": {
        "colab": {
          "base_uri": "https://localhost:8080/"
        },
        "id": "5vjGTc9P9ZH5",
        "outputId": "2d470bf7-9776-4de9-a928-f091fe3dc29a"
      },
      "execution_count": 4,
      "outputs": [
        {
          "output_type": "stream",
          "name": "stdout",
          "text": [
            "Mounted at /content/gdrive\n",
            "3\n",
            "{0: 'Covid', 1: 'Normal', 2: 'Viral Pneumonia'}\n"
          ]
        }
      ]
    },
    {
      "cell_type": "code",
      "source": [
        "data['train']"
      ],
      "metadata": {
        "colab": {
          "base_uri": "https://localhost:8080/"
        },
        "id": "LU-ruL3j9dmc",
        "outputId": "629e5884-43fb-444c-8d0c-e4e4d3b55586"
      },
      "execution_count": 5,
      "outputs": [
        {
          "output_type": "execute_result",
          "data": {
            "text/plain": [
              "Dataset ImageFolder\n",
              "    Number of datapoints: 251\n",
              "    Root location: /content/gdrive/My Drive/covid/Covid19-dataset/train\n",
              "    StandardTransform\n",
              "Transform: Compose(\n",
              "               Resize(size=(32, 32), interpolation=bilinear, max_size=None, antialias=None)\n",
              "               ToTensor()\n",
              "               Normalize(mean=[0.485, 0.456, 0.406], std=[0.229, 0.224, 0.225])\n",
              "           )"
            ]
          },
          "metadata": {},
          "execution_count": 5
        }
      ]
    },
    {
      "cell_type": "code",
      "source": [
        "# Size of Data, to be used for calculating Average Loss and Accuracy\n",
        "train_data_size = len(data['train'])\n",
        "# valid_data_size = len(data['valid'])\n",
        "test_data_size = len(data['test'])\n",
        "\n",
        "# Create iterators for the Data loaded using DataLoader module\n",
        "trainloader = DataLoader(data['train'], batch_size=batchSize, shuffle=True)\n",
        "# valid_data_loader = DataLoader(data['valid'], batch_size=batchSize, shuffle=True)\n",
        "testloader = DataLoader(data['test'], batch_size=batchSize, shuffle=True)"
      ],
      "metadata": {
        "id": "8ebC35Vi9gw6"
      },
      "execution_count": 6,
      "outputs": []
    },
    {
      "cell_type": "code",
      "source": [
        "train_data_size = len(trainloader.dataset)\n",
        "test_data_size = len(testloader.dataset)\n",
        "\n",
        "print(train_data_size)\n",
        "print(test_data_size)"
      ],
      "metadata": {
        "colab": {
          "base_uri": "https://localhost:8080/"
        },
        "id": "NZnoUtGX9lpR",
        "outputId": "e36ff6b5-b576-461c-c789-7f95141d5828"
      },
      "execution_count": 7,
      "outputs": [
        {
          "output_type": "stream",
          "name": "stdout",
          "text": [
            "251\n",
            "66\n"
          ]
        }
      ]
    },
    {
      "cell_type": "code",
      "source": [
        "input_size = (3,32,32)"
      ],
      "metadata": {
        "id": "acgZ1vef99QQ"
      },
      "execution_count": 8,
      "outputs": []
    },
    {
      "cell_type": "code",
      "source": [
        "class myModel(nn.Module): \n",
        "    def __init__(self): \n",
        "        super(myModel, self).__init__() \n",
        "        self.linear1 = nn.Linear(3072, 128) \n",
        "        self.linear2 = nn.Linear(128, 64) \n",
        "        self.linear3 = nn.Linear(64, 3) \n",
        "        self.relu = nn.ReLU()\n",
        "  \n",
        "    def forward(self, x): \n",
        "        x = self.linear1(x)\n",
        "        x = self.relu(x)\n",
        "        x = self.linear2(x)\n",
        "        x = self.relu(x)\n",
        "        o = self.linear3(x)\n",
        "\n",
        "        return o \n",
        "    \n",
        "model = myModel()"
      ],
      "metadata": {
        "id": "7o29RkGY9-UQ"
      },
      "execution_count": 9,
      "outputs": []
    },
    {
      "cell_type": "code",
      "source": [
        "# 2. LOSS AND OPTIMIZER\n",
        "criterion = nn.CrossEntropyLoss()\n",
        "# optimizer = optim.SGD(model.parameters(), lr=0.003, momentum=0.9)\n",
        "optimizer = optim.Adam(model.parameters(), lr=0.0001)\n",
        "\n",
        "# 3. move the model to GPU\n",
        "device = torch.device('cuda:0' if torch.cuda.is_available() else 'cpu')\n",
        "model.to(device)"
      ],
      "metadata": {
        "colab": {
          "base_uri": "https://localhost:8080/"
        },
        "id": "A8jSle-3-ELy",
        "outputId": "715f5bb9-e893-49c2-e7d5-f808e3fb76ff"
      },
      "execution_count": 10,
      "outputs": [
        {
          "output_type": "execute_result",
          "data": {
            "text/plain": [
              "myModel(\n",
              "  (linear1): Linear(in_features=3072, out_features=128, bias=True)\n",
              "  (linear2): Linear(in_features=128, out_features=64, bias=True)\n",
              "  (linear3): Linear(in_features=64, out_features=3, bias=True)\n",
              "  (relu): ReLU()\n",
              ")"
            ]
          },
          "metadata": {},
          "execution_count": 10
        }
      ]
    },
    {
      "cell_type": "code",
      "source": [
        "device"
      ],
      "metadata": {
        "colab": {
          "base_uri": "https://localhost:8080/"
        },
        "id": "x5P8kY9m-G1b",
        "outputId": "c21e3a4b-d3bc-479a-9166-e31161bef625"
      },
      "execution_count": 11,
      "outputs": [
        {
          "output_type": "execute_result",
          "data": {
            "text/plain": [
              "device(type='cuda', index=0)"
            ]
          },
          "metadata": {},
          "execution_count": 11
        }
      ]
    },
    {
      "cell_type": "code",
      "source": [
        "import time # to calculate training time\n",
        "\n",
        "def train_and_validate(model, loss_criterion, optimizer, epochs=25):\n",
        "    '''\n",
        "    Function to train and validate\n",
        "    Parameters\n",
        "        :param model: Model to train and validate\n",
        "        :param loss_criterion: Loss Criterion to minimize\n",
        "        :param optimizer: Optimizer for computing gradients\n",
        "        :param epochs: Number of epochs (default=25)\n",
        "  \n",
        "    Returns\n",
        "        model: Trained Model with best validation accuracy\n",
        "        history: (dict object): Having training loss, accuracy and validation loss, accuracy\n",
        "    '''\n",
        "    \n",
        "    start = time.time()\n",
        "    history = []\n",
        "    best_acc = 0.0\n",
        "\n",
        "    for epoch in range(epochs):\n",
        "        epoch_start = time.time()\n",
        "        print(\"Epoch: {}/{}\".format(epoch+1, epochs))\n",
        "        \n",
        "        # Set to training mode\n",
        "        model.train()\n",
        "        \n",
        "        # Loss and Accuracy within the epoch\n",
        "        train_loss = 0.0\n",
        "        train_acc = 0.0\n",
        "        \n",
        "        valid_loss = 0.0\n",
        "        valid_acc = 0.0\n",
        "        \n",
        "        for i, (inputs, labels) in enumerate(trainloader):\n",
        "\n",
        "            inputs = inputs.to(device)\n",
        "            #reshape images so they can be fed to a nn.Linear()\n",
        "            inputs = inputs.view(inputs.size(0), -1)\n",
        "            labels = labels.to(device)\n",
        "            \n",
        "            # Clean existing gradients\n",
        "            optimizer.zero_grad()\n",
        "            \n",
        "            # Forward pass - compute outputs on input data using the model\n",
        "            outputs = model(inputs)\n",
        "            \n",
        "            # Compute loss\n",
        "            loss = loss_criterion(outputs, labels)\n",
        "            \n",
        "            # Backpropagate the gradients\n",
        "            loss.backward()\n",
        "            \n",
        "            # Update the parameters\n",
        "            optimizer.step()\n",
        "            \n",
        "            # Compute the total loss for the batch and add it to train_loss\n",
        "            train_loss += loss.item() * inputs.size(0)\n",
        "            \n",
        "            # Compute the accuracy\n",
        "            ret, predictions = torch.max(outputs.data, 1)\n",
        "            correct_counts = predictions.eq(labels.data.view_as(predictions))\n",
        "            \n",
        "            # Convert correct_counts to float and then compute the mean\n",
        "            acc = torch.mean(correct_counts.type(torch.FloatTensor))\n",
        "            \n",
        "            # Compute total accuracy in the whole batch and add to train_acc\n",
        "            train_acc += acc.item() * inputs.size(0)\n",
        "            \n",
        "            #print(\"Batch number: {:03d}, Training: Loss: {:.4f}, Accuracy: {:.4f}\".format(i, loss.item(), acc.item()))\n",
        "\n",
        "            \n",
        "        # Validation - No gradient tracking needed\n",
        "        with torch.no_grad():\n",
        "\n",
        "            # Set to evaluation mode\n",
        "            model.eval()\n",
        "\n",
        "            # Validation loop\n",
        "            for j, (inputs, labels) in enumerate(testloader):\n",
        "                inputs = inputs.to(device)\n",
        "                #reshape images so they can be fed to a nn.Linear()\n",
        "                inputs = inputs.view(inputs.size(0), -1)\n",
        "                labels = labels.to(device)\n",
        "\n",
        "                # Forward pass - compute outputs on input data using the model\n",
        "                outputs = model(inputs)\n",
        "\n",
        "                # Compute loss\n",
        "                loss = loss_criterion(outputs, labels)\n",
        "\n",
        "                # Compute the total loss for the batch and add it to valid_loss\n",
        "                valid_loss += loss.item() * inputs.size(0)\n",
        "\n",
        "                # Calculate validation accuracy\n",
        "                ret, predictions = torch.max(outputs.data, 1)\n",
        "                correct_counts = predictions.eq(labels.data.view_as(predictions))\n",
        "\n",
        "                # Convert correct_counts to float and then compute the mean\n",
        "                acc = torch.mean(correct_counts.type(torch.FloatTensor))\n",
        "\n",
        "                # Compute total accuracy in the whole batch and add to valid_acc\n",
        "                valid_acc += acc.item() * inputs.size(0)\n",
        "\n",
        "                #print(\"Validation Batch number: {:03d}, Validation: Loss: {:.4f}, Accuracy: {:.4f}\".format(j, loss.item(), acc.item()))\n",
        "            \n",
        "        # Find average training loss and training accuracy\n",
        "        avg_train_loss = train_loss/train_data_size \n",
        "        avg_train_acc = train_acc/train_data_size\n",
        "\n",
        "        # Find average training loss and training accuracy\n",
        "        avg_test_loss = valid_loss/test_data_size \n",
        "        avg_test_acc = valid_acc/test_data_size\n",
        "\n",
        "        history.append([avg_train_loss, avg_test_loss, avg_train_acc, avg_test_acc])\n",
        "                \n",
        "        epoch_end = time.time()\n",
        "    \n",
        "        print(\"Epoch : {:03d}, Training: Loss: {:.4f}, Accuracy: {:.4f}%, \\n\\t\\tValidation : Loss : {:.4f}, Accuracy: {:.4f}%, Time: {:.4f}s\".format(epoch, avg_train_loss, avg_train_acc*100, avg_test_loss, avg_test_acc*100, epoch_end-epoch_start))\n",
        "        \n",
        "        # Save if the model has best accuracy till now\n",
        "        torch.save(model, 'cifar10_model_'+str(epoch)+'.pt')\n",
        "            \n",
        "    return model, history"
      ],
      "metadata": {
        "id": "uyqE1O6k-Jj4"
      },
      "execution_count": 12,
      "outputs": []
    },
    {
      "cell_type": "code",
      "source": [
        "# 4. Train the model for 10 epochs\n",
        "\n",
        "num_epochs = 10\n",
        "trained_model, history = train_and_validate(model, criterion, optimizer, num_epochs)"
      ],
      "metadata": {
        "colab": {
          "base_uri": "https://localhost:8080/"
        },
        "id": "PHzJLEVB-OF8",
        "outputId": "c7946025-ea93-4b4d-e6be-90eabf7546e1"
      },
      "execution_count": 13,
      "outputs": [
        {
          "output_type": "stream",
          "name": "stdout",
          "text": [
            "Epoch: 1/10\n",
            "Epoch : 000, Training: Loss: 0.6016, Accuracy: 79.6813%, \n",
            "\t\tValidation : Loss : 0.5135, Accuracy: 74.2424%, Time: 144.4602s\n",
            "Epoch: 2/10\n",
            "Epoch : 001, Training: Loss: 0.2924, Accuracy: 91.2351%, \n",
            "\t\tValidation : Loss : 0.4450, Accuracy: 83.3333%, Time: 14.4253s\n",
            "Epoch: 3/10\n",
            "Epoch : 002, Training: Loss: 0.2167, Accuracy: 91.6335%, \n",
            "\t\tValidation : Loss : 0.4358, Accuracy: 81.8182%, Time: 15.3788s\n",
            "Epoch: 4/10\n",
            "Epoch : 003, Training: Loss: 0.1759, Accuracy: 95.2191%, \n",
            "\t\tValidation : Loss : 0.3721, Accuracy: 84.8485%, Time: 14.3780s\n",
            "Epoch: 5/10\n",
            "Epoch : 004, Training: Loss: 0.1396, Accuracy: 95.6175%, \n",
            "\t\tValidation : Loss : 0.3966, Accuracy: 83.3333%, Time: 14.1833s\n",
            "Epoch: 6/10\n",
            "Epoch : 005, Training: Loss: 0.1054, Accuracy: 96.8127%, \n",
            "\t\tValidation : Loss : 0.4146, Accuracy: 83.3333%, Time: 14.2778s\n",
            "Epoch: 7/10\n",
            "Epoch : 006, Training: Loss: 0.0974, Accuracy: 96.8127%, \n",
            "\t\tValidation : Loss : 0.3573, Accuracy: 84.8485%, Time: 14.2272s\n",
            "Epoch: 8/10\n",
            "Epoch : 007, Training: Loss: 0.0848, Accuracy: 97.6096%, \n",
            "\t\tValidation : Loss : 0.3307, Accuracy: 89.3939%, Time: 14.3143s\n",
            "Epoch: 9/10\n",
            "Epoch : 008, Training: Loss: 0.0586, Accuracy: 98.4064%, \n",
            "\t\tValidation : Loss : 0.3245, Accuracy: 87.8788%, Time: 14.2347s\n",
            "Epoch: 10/10\n",
            "Epoch : 009, Training: Loss: 0.0522, Accuracy: 99.2032%, \n",
            "\t\tValidation : Loss : 0.3272, Accuracy: 89.3939%, Time: 14.3506s\n"
          ]
        }
      ]
    },
    {
      "cell_type": "code",
      "source": [
        "history"
      ],
      "metadata": {
        "colab": {
          "base_uri": "https://localhost:8080/"
        },
        "id": "PE0RWcou-RUh",
        "outputId": "b4d1e2a5-5c65-48c0-acae-96e20711346c"
      },
      "execution_count": 14,
      "outputs": [
        {
          "output_type": "execute_result",
          "data": {
            "text/plain": [
              "[[0.6016013298139155,\n",
              "  0.5134699434945078,\n",
              "  0.796812749003984,\n",
              "  0.7424242424242424],\n",
              " [0.2923504423157152,\n",
              "  0.44501327700687177,\n",
              "  0.9123505976095617,\n",
              "  0.8333333333333334],\n",
              " [0.2166574298741808,\n",
              "  0.43583422436407115,\n",
              "  0.9163346613545816,\n",
              "  0.8181818181818182],\n",
              " [0.17592798446516592,\n",
              "  0.37210289253429935,\n",
              "  0.952191235059761,\n",
              "  0.8484848484848485],\n",
              " [0.13964721269579047,\n",
              "  0.3965692994833896,\n",
              "  0.9561752988047809,\n",
              "  0.8333333333333334],\n",
              " [0.10541397721258056,\n",
              "  0.4145603844275077,\n",
              "  0.9681274900398407,\n",
              "  0.8333333333333334],\n",
              " [0.0974073364544081,\n",
              "  0.3572903325160344,\n",
              "  0.9681274900398407,\n",
              "  0.8484848484848485],\n",
              " [0.0847681961597437,\n",
              "  0.3306826052509926,\n",
              "  0.9760956175298805,\n",
              "  0.8939393939393939],\n",
              " [0.05855501383223916,\n",
              "  0.3245364564442725,\n",
              "  0.9840637450199203,\n",
              "  0.8787878787878788],\n",
              " [0.052222936983736035,\n",
              "  0.32720354323585826,\n",
              "  0.9920318725099602,\n",
              "  0.8939393939393939]]"
            ]
          },
          "metadata": {},
          "execution_count": 14
        }
      ]
    },
    {
      "cell_type": "code",
      "source": [
        "# 5. Analyze the loss curve\n",
        "\n",
        "history = np.array(history)\n",
        "plt.plot(history[:,0:2])\n",
        "plt.legend(['Tr Loss', 'Val Loss'])\n",
        "plt.xlabel('Epoch Number')\n",
        "plt.ylabel('Loss')\n",
        "plt.ylim(0,3)\n",
        "# plt.savefig('cifar10_loss_curve.png')\n",
        "plt.show()"
      ],
      "metadata": {
        "colab": {
          "base_uri": "https://localhost:8080/",
          "height": 283
        },
        "id": "BGdpZLNV-VFi",
        "outputId": "2acdbc13-47e0-41a3-d237-d11858f9819d"
      },
      "execution_count": 15,
      "outputs": [
        {
          "output_type": "display_data",
          "data": {
            "text/plain": [
              "<Figure size 432x288 with 1 Axes>"
            ],
            "image/png": "[encoded data removed]"
          },
          "metadata": {
            "needs_background": "light"
          }
        }
      ]
    },
    {
      "cell_type": "code",
      "source": [
        "# 6. Analyze the accuracy curve\n",
        "\n",
        "plt.plot(history[:,2:4])\n",
        "plt.legend(['Tr Accuracy', 'Val Accuracy'])\n",
        "plt.xlabel('Epoch Number')\n",
        "plt.ylabel('Accuracy')\n",
        "plt.ylim(0,1)\n",
        "# plt.savefig('cifar10_accuracy_curve.png')\n",
        "plt.show()"
      ],
      "metadata": {
        "colab": {
          "base_uri": "https://localhost:8080/",
          "height": 283
        },
        "id": "j7wRt7_K-Xkr",
        "outputId": "0a5687d6-7d5e-4bb6-daa6-34f2869b995e"
      },
      "execution_count": 16,
      "outputs": [
        {
          "output_type": "display_data",
          "data": {
            "text/plain": [
              "<Figure size 432x288 with 1 Axes>"
            ],
            "image/png": "[encoded data removed]"
          },
          "metadata": {
            "needs_background": "light"
          }
        }
      ]
    },
    {
      "cell_type": "markdown",
      "metadata": {
        "id": "CW6A4Pmj8zuo"
      },
      "source": [
        "b) Create and train a ConvNet corresponding to the following architecture in Fig. 1 (with modifications of the input and final layers). Please include **(10 marks)**:\n",
        "\n",
        "    1) The dataloader to load the train and test datasets.\n",
        "\n",
        "    2) The model definition (either using sequential method OR pytorch class method).\n",
        "\n",
        "    3) Define your training loop.\n",
        "\n",
        "    4) Output the mean accuracy for the whole testing dataset.\n",
        "\n",
        "![pic](https://raw.githubusercontent.com/CUTe-EmbeddedAI/images/main/images/LeNet.png)\n",
        "    \n",
        "                                Fig. 1: A convolutional neural network"
      ]
    },
    {
      "cell_type": "code",
      "source": [
        "#1. DEFINE THE CNN \n",
        "class CNN(nn.Module):\n",
        "    def __init__(self):\n",
        "        super(CNN, self).__init__()\n",
        "        self.conv1 = nn.Conv2d(3, 6, 5) #3 is channels no, 6 is kernal no, 5 is size of kernal\n",
        "        self.pool1 = nn.MaxPool2d(2, 2) # 2 is stride \n",
        "        self.conv2 = nn.Conv2d(6, 16, 5) # 16 is the output size\n",
        "        self.pool2 = nn.MaxPool2d(2, 2) \n",
        "        self.fc1 = nn.Linear(16 * 5* 5, 120)\n",
        "        self.fc2 = nn.Linear(120, 3)\n",
        "        #self.fc3 = nn.Linear(10, 3)\n",
        "        self.relu = nn.ReLU()\n",
        "\n",
        "    def forward(self, x):\n",
        "        x = self.pool1(self.relu(self.conv1(x)))\n",
        "        x = self.pool2(self.relu(self.conv2(x)))\n",
        "        x = x.view(-1, 16 * 5 * 5)\n",
        "        x = self.relu(self.fc1(x))\n",
        "        #x = self.relu(self.fc2(x))\n",
        "        x = self.fc2(x)\n",
        "        return x"
      ],
      "metadata": {
        "id": "L5f34R5E_RjC"
      },
      "execution_count": 20,
      "outputs": []
    },
    {
      "cell_type": "code",
      "source": [
        "model = CNN() # need to instantiate the network to be used in instance method\n",
        "\n",
        "# 2. LOSS AND OPTIMIZER\n",
        "criterion = nn.CrossEntropyLoss()\n",
        "optimizer = optim.SGD(model.parameters(), lr=0.001, momentum=0.9)\n",
        "\n",
        "# 3. move the model to GPU\n",
        "device = torch.device('cuda:0' if torch.cuda.is_available() else 'cpu')\n",
        "model.to(device)"
      ],
      "metadata": {
        "colab": {
          "base_uri": "https://localhost:8080/"
        },
        "id": "XXjg0wsW_YTE",
        "outputId": "52f22f62-30a2-415b-9ff4-4a48e461cfec"
      },
      "execution_count": 21,
      "outputs": [
        {
          "output_type": "execute_result",
          "data": {
            "text/plain": [
              "CNN(\n",
              "  (conv1): Conv2d(3, 6, kernel_size=(5, 5), stride=(1, 1))\n",
              "  (pool1): MaxPool2d(kernel_size=2, stride=2, padding=0, dilation=1, ceil_mode=False)\n",
              "  (conv2): Conv2d(6, 16, kernel_size=(5, 5), stride=(1, 1))\n",
              "  (pool2): MaxPool2d(kernel_size=2, stride=2, padding=0, dilation=1, ceil_mode=False)\n",
              "  (fc1): Linear(in_features=400, out_features=120, bias=True)\n",
              "  (fc2): Linear(in_features=120, out_features=3, bias=True)\n",
              "  (relu): ReLU()\n",
              ")"
            ]
          },
          "metadata": {},
          "execution_count": 21
        }
      ]
    },
    {
      "cell_type": "code",
      "source": [
        "# to check how many parameters in our model:\n",
        "\n",
        "import torch\n",
        "from torchvision import models\n",
        "from torchsummary import summary\n",
        "\n",
        "model = CNN()\n",
        "model.to(device)\n",
        "summary(model, (3, 32, 32))"
      ],
      "metadata": {
        "colab": {
          "base_uri": "https://localhost:8080/"
        },
        "id": "4yYIwgyL_anx",
        "outputId": "f267b5a5-2a08-4185-f06e-887d813c4d3e"
      },
      "execution_count": 22,
      "outputs": [
        {
          "output_type": "stream",
          "name": "stdout",
          "text": [
            "----------------------------------------------------------------\n",
            "        Layer (type)               Output Shape         Param #\n",
            "================================================================\n",
            "            Conv2d-1            [-1, 6, 28, 28]             456\n",
            "              ReLU-2            [-1, 6, 28, 28]               0\n",
            "         MaxPool2d-3            [-1, 6, 14, 14]               0\n",
            "            Conv2d-4           [-1, 16, 10, 10]           2,416\n",
            "              ReLU-5           [-1, 16, 10, 10]               0\n",
            "         MaxPool2d-6             [-1, 16, 5, 5]               0\n",
            "            Linear-7                  [-1, 120]          48,120\n",
            "              ReLU-8                  [-1, 120]               0\n",
            "            Linear-9                    [-1, 3]             363\n",
            "================================================================\n",
            "Total params: 51,355\n",
            "Trainable params: 51,355\n",
            "Non-trainable params: 0\n",
            "----------------------------------------------------------------\n",
            "Input size (MB): 0.01\n",
            "Forward/backward pass size (MB): 0.11\n",
            "Params size (MB): 0.20\n",
            "Estimated Total Size (MB): 0.32\n",
            "----------------------------------------------------------------\n"
          ]
        }
      ]
    },
    {
      "cell_type": "code",
      "source": [
        "import time # to calculate training time\n",
        "\n",
        "def train_and_validate(model, loss_criterion, optimizer, epochs=25):\n",
        "    '''\n",
        "    Function to train and validate\n",
        "    Parameters\n",
        "        :param model: Model to train and validate\n",
        "        :param loss_criterion: Loss Criterion to minimize\n",
        "        :param optimizer: Optimizer for computing gradients\n",
        "        :param epochs: Number of epochs (default=25)\n",
        "  \n",
        "    Returns\n",
        "        model: Trained Model with best validation accuracy\n",
        "        history: (dict object): Having training loss, accuracy and validation loss, accuracy\n",
        "    '''\n",
        "    \n",
        "    start = time.time()\n",
        "    history = []\n",
        "    best_acc = 0.0\n",
        "\n",
        "    for epoch in range(epochs):\n",
        "        epoch_start = time.time()\n",
        "        print(\"Epoch: {}/{}\".format(epoch+1, epochs))\n",
        "        \n",
        "        # Set to training mode\n",
        "        model.train()\n",
        "        \n",
        "        # Loss and Accuracy within the epoch\n",
        "        train_loss = 0.0\n",
        "        train_acc = 0.0\n",
        "        \n",
        "        valid_loss = 0.0\n",
        "        valid_acc = 0.0\n",
        "        \n",
        "        for i, (inputs, labels) in enumerate(trainloader):\n",
        "\n",
        "            inputs = inputs.to(device)\n",
        "            labels = labels.to(device)\n",
        "            \n",
        "            # Clean existing gradients\n",
        "            optimizer.zero_grad()\n",
        "            \n",
        "            # Forward pass - compute outputs on input data using the model\n",
        "            outputs = model(inputs)\n",
        "            \n",
        "            # Compute loss\n",
        "            loss = loss_criterion(outputs, labels)\n",
        "            \n",
        "            # Backpropagate the gradients\n",
        "            loss.backward()\n",
        "            \n",
        "            # Update the parameters\n",
        "            optimizer.step()\n",
        "            \n",
        "            # Compute the total loss for the batch and add it to train_loss\n",
        "            train_loss += loss.item() * inputs.size(0)\n",
        "            \n",
        "            # Compute the accuracy\n",
        "            ret, predictions = torch.max(outputs.data, 1)\n",
        "            correct_counts = predictions.eq(labels.data.view_as(predictions))\n",
        "            \n",
        "            # Convert correct_counts to float and then compute the mean\n",
        "            acc = torch.mean(correct_counts.type(torch.FloatTensor))\n",
        "            \n",
        "            # Compute total accuracy in the whole batch and add to train_acc\n",
        "            train_acc += acc.item() * inputs.size(0)\n",
        "            \n",
        "            #print(\"Batch number: {:03d}, Training: Loss: {:.4f}, Accuracy: {:.4f}\".format(i, loss.item(), acc.item()))\n",
        "\n",
        "            \n",
        "        # Validation - No gradient tracking needed\n",
        "        with torch.no_grad():\n",
        "\n",
        "            # Set to evaluation mode\n",
        "            model.eval()\n",
        "\n",
        "            # Validation loop\n",
        "            for j, (inputs, labels) in enumerate(testloader):\n",
        "                inputs = inputs.to(device)\n",
        "                labels = labels.to(device)\n",
        "\n",
        "                # Forward pass - compute outputs on input data using the model\n",
        "                outputs = model(inputs)\n",
        "\n",
        "                # Compute loss\n",
        "                loss = loss_criterion(outputs, labels)\n",
        "\n",
        "                # Compute the total loss for the batch and add it to valid_loss\n",
        "                valid_loss += loss.item() * inputs.size(0)\n",
        "\n",
        "                # Calculate validation accuracy\n",
        "                ret, predictions = torch.max(outputs.data, 1)\n",
        "                correct_counts = predictions.eq(labels.data.view_as(predictions))\n",
        "\n",
        "                # Convert correct_counts to float and then compute the mean\n",
        "                acc = torch.mean(correct_counts.type(torch.FloatTensor))\n",
        "\n",
        "                # Compute total accuracy in the whole batch and add to valid_acc\n",
        "                valid_acc += acc.item() * inputs.size(0)\n",
        "\n",
        "                #print(\"Validation Batch number: {:03d}, Validation: Loss: {:.4f}, Accuracy: {:.4f}\".format(j, loss.item(), acc.item()))\n",
        "            \n",
        "        # Find average training loss and training accuracy\n",
        "        avg_train_loss = train_loss/train_data_size \n",
        "        avg_train_acc = train_acc/train_data_size\n",
        "\n",
        "        # Find average training loss and training accuracy\n",
        "        avg_test_loss = valid_loss/test_data_size \n",
        "        avg_test_acc = valid_acc/test_data_size\n",
        "\n",
        "        history.append([avg_train_loss, avg_test_loss, avg_train_acc, avg_test_acc])\n",
        "                \n",
        "        epoch_end = time.time()\n",
        "    \n",
        "        print(\"Epoch : {:03d}, Training: Loss: {:.4f}, Accuracy: {:.4f}%, \\n\\t\\tValidation : Loss : {:.4f}, Accuracy: {:.4f}%, Time: {:.4f}s\".format(epoch, avg_train_loss, avg_train_acc*100, avg_test_loss, avg_test_acc*100, epoch_end-epoch_start))\n",
        "        \n",
        "        # Save if the model has best accuracy till now\n",
        "        torch.save(model, 'cifar10_model_'+str(epoch)+'.pt')\n",
        "            \n",
        "    return model, history"
      ],
      "metadata": {
        "id": "RALsMxgE_e7C"
      },
      "execution_count": 23,
      "outputs": []
    },
    {
      "cell_type": "code",
      "source": [
        "# 4. Train the model for 10 epochs\n",
        "\n",
        "num_epochs = 20\n",
        "trained_model, history = train_and_validate(model, criterion, optimizer, num_epochs)"
      ],
      "metadata": {
        "colab": {
          "base_uri": "https://localhost:8080/"
        },
        "id": "1V6Hby-1_mMI",
        "outputId": "e587fe59-2a85-4edf-df88-c756a80e0ab2"
      },
      "execution_count": 25,
      "outputs": [
        {
          "output_type": "stream",
          "name": "stdout",
          "text": [
            "Epoch: 1/20\n",
            "Epoch : 000, Training: Loss: 1.0926, Accuracy: 33.0677%, \n",
            "\t\tValidation : Loss : 1.0991, Accuracy: 30.3030%, Time: 14.1453s\n",
            "Epoch: 2/20\n",
            "Epoch : 001, Training: Loss: 1.0926, Accuracy: 33.0677%, \n",
            "\t\tValidation : Loss : 1.0991, Accuracy: 30.3030%, Time: 14.1141s\n",
            "Epoch: 3/20\n",
            "Epoch : 002, Training: Loss: 1.0926, Accuracy: 33.0677%, \n",
            "\t\tValidation : Loss : 1.0991, Accuracy: 30.3030%, Time: 14.1458s\n",
            "Epoch: 4/20\n",
            "Epoch : 003, Training: Loss: 1.0926, Accuracy: 33.0677%, \n",
            "\t\tValidation : Loss : 1.0991, Accuracy: 30.3030%, Time: 14.2140s\n",
            "Epoch: 5/20\n",
            "Epoch : 004, Training: Loss: 1.0926, Accuracy: 33.0677%, \n",
            "\t\tValidation : Loss : 1.0991, Accuracy: 30.3030%, Time: 14.0289s\n",
            "Epoch: 6/20\n",
            "Epoch : 005, Training: Loss: 1.0926, Accuracy: 33.0677%, \n",
            "\t\tValidation : Loss : 1.0991, Accuracy: 30.3030%, Time: 14.1338s\n",
            "Epoch: 7/20\n",
            "Epoch : 006, Training: Loss: 1.0926, Accuracy: 33.0677%, \n",
            "\t\tValidation : Loss : 1.0991, Accuracy: 30.3030%, Time: 14.0652s\n",
            "Epoch: 8/20\n",
            "Epoch : 007, Training: Loss: 1.0926, Accuracy: 33.0677%, \n",
            "\t\tValidation : Loss : 1.0991, Accuracy: 30.3030%, Time: 14.3077s\n",
            "Epoch: 9/20\n",
            "Epoch : 008, Training: Loss: 1.0926, Accuracy: 33.0677%, \n",
            "\t\tValidation : Loss : 1.0991, Accuracy: 30.3030%, Time: 13.9605s\n",
            "Epoch: 10/20\n",
            "Epoch : 009, Training: Loss: 1.0926, Accuracy: 33.0677%, \n",
            "\t\tValidation : Loss : 1.0991, Accuracy: 30.3030%, Time: 14.0645s\n",
            "Epoch: 11/20\n",
            "Epoch : 010, Training: Loss: 1.0926, Accuracy: 33.0677%, \n",
            "\t\tValidation : Loss : 1.0991, Accuracy: 30.3030%, Time: 13.9549s\n",
            "Epoch: 12/20\n",
            "Epoch : 011, Training: Loss: 1.0926, Accuracy: 33.0677%, \n",
            "\t\tValidation : Loss : 1.0991, Accuracy: 30.3030%, Time: 14.0259s\n",
            "Epoch: 13/20\n",
            "Epoch : 012, Training: Loss: 1.0926, Accuracy: 33.0677%, \n",
            "\t\tValidation : Loss : 1.0991, Accuracy: 30.3030%, Time: 14.1607s\n",
            "Epoch: 14/20\n",
            "Epoch : 013, Training: Loss: 1.0926, Accuracy: 33.0677%, \n",
            "\t\tValidation : Loss : 1.0991, Accuracy: 30.3030%, Time: 14.0076s\n",
            "Epoch: 15/20\n",
            "Epoch : 014, Training: Loss: 1.0926, Accuracy: 33.0677%, \n",
            "\t\tValidation : Loss : 1.0991, Accuracy: 30.3030%, Time: 14.1186s\n",
            "Epoch: 16/20\n",
            "Epoch : 015, Training: Loss: 1.0926, Accuracy: 33.0677%, \n",
            "\t\tValidation : Loss : 1.0991, Accuracy: 30.3030%, Time: 13.9108s\n",
            "Epoch: 17/20\n",
            "Epoch : 016, Training: Loss: 1.0926, Accuracy: 33.0677%, \n",
            "\t\tValidation : Loss : 1.0991, Accuracy: 30.3030%, Time: 14.0565s\n",
            "Epoch: 18/20\n",
            "Epoch : 017, Training: Loss: 1.0926, Accuracy: 33.0677%, \n",
            "\t\tValidation : Loss : 1.0991, Accuracy: 30.3030%, Time: 15.3413s\n",
            "Epoch: 19/20\n",
            "Epoch : 018, Training: Loss: 1.0926, Accuracy: 33.0677%, \n",
            "\t\tValidation : Loss : 1.0991, Accuracy: 30.3030%, Time: 14.1139s\n",
            "Epoch: 20/20\n",
            "Epoch : 019, Training: Loss: 1.0926, Accuracy: 33.0677%, \n",
            "\t\tValidation : Loss : 1.0991, Accuracy: 30.3030%, Time: 14.1680s\n"
          ]
        }
      ]
    },
    {
      "cell_type": "code",
      "source": [
        "# 5. Analyze the loss curve\n",
        "\n",
        "history = np.array(history)\n",
        "plt.plot(history[:,0:2])\n",
        "plt.legend(['Tr Loss', 'Val Loss'])\n",
        "plt.xlabel('Epoch Number')\n",
        "plt.ylabel('Loss')\n",
        "plt.ylim(0,3)\n",
        "# plt.savefig('cifar10_loss_curve.png')\n",
        "plt.show()"
      ],
      "metadata": {
        "colab": {
          "base_uri": "https://localhost:8080/",
          "height": 283
        },
        "id": "XwWnRdgf_oqj",
        "outputId": "2791036b-b4e7-4322-815f-3875f4a8dfae"
      },
      "execution_count": 26,
      "outputs": [
        {
          "output_type": "display_data",
          "data": {
            "text/plain": [
              "<Figure size 432x288 with 1 Axes>"
            ],
            "image/png": "[encoded data removed]"
          },
          "metadata": {
            "needs_background": "light"
          }
        }
      ]
    },
    {
      "cell_type": "code",
      "source": [
        "# 6. Analyze the accuracy curve\n",
        "\n",
        "plt.plot(history[:,2:4])\n",
        "plt.legend(['Tr Accuracy', 'Val Accuracy'])\n",
        "plt.xlabel('Epoch Number')\n",
        "plt.ylabel('Accuracy')\n",
        "plt.ylim(0,1)\n",
        "# plt.savefig('cifar10_accuracy_curve.png')\n",
        "plt.show()"
      ],
      "metadata": {
        "colab": {
          "base_uri": "https://localhost:8080/",
          "height": 283
        },
        "id": "RSddRieA_s_I",
        "outputId": "06343269-c90c-4d37-f784-73888d0e4793"
      },
      "execution_count": 27,
      "outputs": [
        {
          "output_type": "display_data",
          "data": {
            "text/plain": [
              "<Figure size 432x288 with 1 Axes>"
            ],
            "image/png": "[encoded data removed]"
          },
          "metadata": {
            "needs_background": "light"
          }
        }
      ]
    },
    {
      "cell_type": "code",
      "source": [
        "correct = 0\n",
        "total = 0\n",
        "# since we're not training, we don't need to calculate the gradients for our outputs\n",
        "with torch.no_grad():\n",
        "    for data in testloader:\n",
        "#         images, labels = data\n",
        "        images, labels = data[0].to(device), data[1].to(device)\n",
        "        # calculate outputs by running images through the network\n",
        "#         images = images.view(images.size(0), -1)\n",
        "        outputs = model(images)\n",
        "        # the class with the highest energy is what we choose as prediction\n",
        "        _, predicted = torch.max(outputs.data, 1)\n",
        "        total += labels.size(0)\n",
        "        correct += (predicted == labels).sum().item()\n",
        "\n",
        "print(f'Accuracy of the network on the 10000 test images: {100 * correct // total} %')"
      ],
      "metadata": {
        "colab": {
          "base_uri": "https://localhost:8080/"
        },
        "id": "onTQ7_8g_x24",
        "outputId": "46aee75a-1ac5-4b7a-9843-96d62486d79a"
      },
      "execution_count": 28,
      "outputs": [
        {
          "output_type": "stream",
          "name": "stdout",
          "text": [
            "Accuracy of the network on the 10000 test images: 30 %\n"
          ]
        }
      ]
    },
    {
      "cell_type": "code",
      "source": [
        "# prepare to count predictions for each class\n",
        "correct_pred = {classname: 0 for classname in classes}\n",
        "total_pred = {classname: 0 for classname in classes}\n",
        "\n",
        "# again no gradients needed\n",
        "with torch.no_grad():\n",
        "    for data in testloader:\n",
        "        images, labels = data[0].to(device), data[1].to(device)\n",
        "#         images = images.view(images.size(0), -1)\n",
        "        outputs = model(images)\n",
        "        _, predictions = torch.max(outputs, 1)\n",
        "        # collect the correct predictions for each class\n",
        "        for label, prediction in zip(labels, predictions):\n",
        "            if label == prediction:\n",
        "                correct_pred[classes[label]] += 1\n",
        "            total_pred[classes[label]] += 1\n",
        "\n",
        "\n",
        "# print accuracy for each class\n",
        "for classname, correct_count in correct_pred.items():\n",
        "    accuracy = 100 * float(correct_count) / total_pred[classname]\n",
        "    print(f'Accuracy for class: {classname:5s} is {accuracy:.1f} %')"
      ],
      "metadata": {
        "colab": {
          "base_uri": "https://localhost:8080/"
        },
        "id": "wwxljFo3_yxQ",
        "outputId": "9688a27c-9cc3-409b-e61e-e27b987af05a"
      },
      "execution_count": 31,
      "outputs": [
        {
          "output_type": "stream",
          "name": "stdout",
          "text": [
            "Accuracy for class: Viral Pneumonia is 7.7 %\n",
            "Accuracy for class: Normal is 90.0 %\n",
            "Accuracy for class: Covid is 0.0 %\n"
          ]
        }
      ]
    },
    {
      "cell_type": "markdown",
      "metadata": {
        "id": "FZ123vIQzMmJ"
      },
      "source": [
        "c) Based on Question 2 b), answer the following questions: \n",
        "    \n",
        "    i) Is the model overfitting? Why? (4 marks)\n",
        "   <font color='red'>YES. Because the model is too complex for the problem that need to be solved and the training accuracy is more higher than the testing accuracy</font>\n",
        "    \n",
        "    ii) Propose two methods to reduce the effect of overfitting. (4 marks)\n",
        "   <font color='red'>Two methods that I propose are: (1) Batch Normalization (2) Dropout Regularization</font>\n",
        "   \n",
        "    iii) Implement the two proposed methods in Q2 c) ii) in the next cell and show that the overfitting has been reduced. (8 marks)"
      ]
    },
    {
      "cell_type": "code",
      "source": [
        "#1. DEFINE THE CNN \n",
        "class CNN(nn.Module):\n",
        "    def __init__(self):\n",
        "        super(CNN, self).__init__()\n",
        "        self.conv1 = nn.Conv2d(3, 6, 5, 1) #3 is channels no, 6 is kernal no, 5 is size of kernal\n",
        "        self.pool1 = nn.MaxPool2d(2, 2) # 2 is stride \n",
        "        #self.batchnorm1 = nn.BatchNorm2d(6) # to improve the accuracy \n",
        "        self.conv2 = nn.Conv2d(6, 16, 5) # 16 is the output size\n",
        "        self.pool2 = nn.MaxPool2d(2, 2) \n",
        "        self.fc1 = nn.Linear(16 * 5* 5, 120)\n",
        "        self.dropout = nn.Dropout(0.2) # to improve the accuracy \n",
        "        self.fc2 = nn.Linear(120, 10)\n",
        "        self.fc3 = nn.Linear(10, 3)\n",
        "        self.relu = nn.ReLU()\n",
        "\n",
        "    def forward(self, x):\n",
        "        x = self.pool1(self.relu(self.conv1(x)))\n",
        "        x = self.pool2(self.relu(self.conv2(x)))\n",
        "        #x = self.pool3(self.relu(self.conv3(x)))\n",
        "        x = x.view(-1, 16 * 5 * 5)\n",
        "        x = self.relu(self.fc1(x))\n",
        "        x = self.relu(self.fc2(x))\n",
        "        x = self.fc3(x)\n",
        "        return x"
      ],
      "metadata": {
        "id": "2-XahdC1Ak3g"
      },
      "execution_count": 54,
      "outputs": []
    },
    {
      "cell_type": "code",
      "source": [
        "model = CNN() # need to instantiate the network to be used in instance method\n",
        "\n",
        "# 2. LOSS AND OPTIMIZER\n",
        "criterion = nn.CrossEntropyLoss()\n",
        "optimizer = optim.SGD(model.parameters(), lr=0.001, momentum=0.9)\n",
        "\n",
        "# 3. move the model to GPU\n",
        "device = torch.device('cuda:0' if torch.cuda.is_available() else 'cpu')\n",
        "model.to(device)"
      ],
      "metadata": {
        "colab": {
          "base_uri": "https://localhost:8080/"
        },
        "id": "H4oqjCjJBeGH",
        "outputId": "401f8410-00a1-4948-8266-815079a42dc9"
      },
      "execution_count": 55,
      "outputs": [
        {
          "output_type": "execute_result",
          "data": {
            "text/plain": [
              "CNN(\n",
              "  (conv1): Conv2d(3, 6, kernel_size=(5, 5), stride=(1, 1))\n",
              "  (pool1): MaxPool2d(kernel_size=2, stride=2, padding=0, dilation=1, ceil_mode=False)\n",
              "  (conv2): Conv2d(6, 16, kernel_size=(5, 5), stride=(1, 1))\n",
              "  (pool2): MaxPool2d(kernel_size=2, stride=2, padding=0, dilation=1, ceil_mode=False)\n",
              "  (fc1): Linear(in_features=400, out_features=120, bias=True)\n",
              "  (dropout): Dropout(p=0.2, inplace=False)\n",
              "  (fc2): Linear(in_features=120, out_features=10, bias=True)\n",
              "  (fc3): Linear(in_features=10, out_features=3, bias=True)\n",
              "  (relu): ReLU()\n",
              ")"
            ]
          },
          "metadata": {},
          "execution_count": 55
        }
      ]
    },
    {
      "cell_type": "code",
      "source": [
        "# to check how many parameters in our model:\n",
        "\n",
        "import torch\n",
        "from torchvision import models\n",
        "from torchsummary import summary\n",
        "\n",
        "model = CNN()\n",
        "model.to(device)\n",
        "summary(model, (3, 32, 32))"
      ],
      "metadata": {
        "colab": {
          "base_uri": "https://localhost:8080/"
        },
        "id": "NiMw5SIYBspf",
        "outputId": "018dd1f4-be43-4992-9a6e-9fc5311c63e7"
      },
      "execution_count": 56,
      "outputs": [
        {
          "output_type": "stream",
          "name": "stdout",
          "text": [
            "----------------------------------------------------------------\n",
            "        Layer (type)               Output Shape         Param #\n",
            "================================================================\n",
            "            Conv2d-1            [-1, 6, 28, 28]             456\n",
            "              ReLU-2            [-1, 6, 28, 28]               0\n",
            "         MaxPool2d-3            [-1, 6, 14, 14]               0\n",
            "            Conv2d-4           [-1, 16, 10, 10]           2,416\n",
            "              ReLU-5           [-1, 16, 10, 10]               0\n",
            "         MaxPool2d-6             [-1, 16, 5, 5]               0\n",
            "            Linear-7                  [-1, 120]          48,120\n",
            "              ReLU-8                  [-1, 120]               0\n",
            "            Linear-9                   [-1, 10]           1,210\n",
            "             ReLU-10                   [-1, 10]               0\n",
            "           Linear-11                    [-1, 3]              33\n",
            "================================================================\n",
            "Total params: 52,235\n",
            "Trainable params: 52,235\n",
            "Non-trainable params: 0\n",
            "----------------------------------------------------------------\n",
            "Input size (MB): 0.01\n",
            "Forward/backward pass size (MB): 0.11\n",
            "Params size (MB): 0.20\n",
            "Estimated Total Size (MB): 0.32\n",
            "----------------------------------------------------------------\n"
          ]
        }
      ]
    },
    {
      "cell_type": "code",
      "source": [
        "import time # to calculate training time\n",
        "\n",
        "def train_and_validate(model, loss_criterion, optimizer, epochs=25):\n",
        "    '''\n",
        "    Function to train and validate\n",
        "    Parameters\n",
        "        :param model: Model to train and validate\n",
        "        :param loss_criterion: Loss Criterion to minimize\n",
        "        :param optimizer: Optimizer for computing gradients\n",
        "        :param epochs: Number of epochs (default=25)\n",
        "  \n",
        "    Returns\n",
        "        model: Trained Model with best validation accuracy\n",
        "        history: (dict object): Having training loss, accuracy and validation loss, accuracy\n",
        "    '''\n",
        "    \n",
        "    start = time.time()\n",
        "    history = []\n",
        "    best_acc = 0.0\n",
        "\n",
        "    for epoch in range(epochs):\n",
        "        epoch_start = time.time()\n",
        "        print(\"Epoch: {}/{}\".format(epoch+1, epochs))\n",
        "        \n",
        "        # Set to training mode\n",
        "        model.train()\n",
        "        \n",
        "        # Loss and Accuracy within the epoch\n",
        "        train_loss = 0.0\n",
        "        train_acc = 0.0\n",
        "        \n",
        "        valid_loss = 0.0\n",
        "        valid_acc = 0.0\n",
        "        \n",
        "        for i, (inputs, labels) in enumerate(trainloader):\n",
        "\n",
        "            inputs = inputs.to(device)\n",
        "            labels = labels.to(device)\n",
        "            \n",
        "            # Clean existing gradients\n",
        "            optimizer.zero_grad()\n",
        "            \n",
        "            # Forward pass - compute outputs on input data using the model\n",
        "            outputs = model(inputs)\n",
        "            \n",
        "            # Compute loss\n",
        "            loss = loss_criterion(outputs, labels)\n",
        "            \n",
        "            # Backpropagate the gradients\n",
        "            loss.backward()\n",
        "            \n",
        "            # Update the parameters\n",
        "            optimizer.step()\n",
        "            \n",
        "            # Compute the total loss for the batch and add it to train_loss\n",
        "            train_loss += loss.item() * inputs.size(0)\n",
        "            \n",
        "            # Compute the accuracy\n",
        "            ret, predictions = torch.max(outputs.data, 1)\n",
        "            correct_counts = predictions.eq(labels.data.view_as(predictions))\n",
        "            \n",
        "            # Convert correct_counts to float and then compute the mean\n",
        "            acc = torch.mean(correct_counts.type(torch.FloatTensor))\n",
        "            \n",
        "            # Compute total accuracy in the whole batch and add to train_acc\n",
        "            train_acc += acc.item() * inputs.size(0)\n",
        "            \n",
        "            #print(\"Batch number: {:03d}, Training: Loss: {:.4f}, Accuracy: {:.4f}\".format(i, loss.item(), acc.item()))\n",
        "\n",
        "            \n",
        "        # Validation - No gradient tracking needed\n",
        "        with torch.no_grad():\n",
        "\n",
        "            # Set to evaluation mode\n",
        "            model.eval()\n",
        "\n",
        "            # Validation loop\n",
        "            for j, (inputs, labels) in enumerate(testloader):\n",
        "                inputs = inputs.to(device)\n",
        "                labels = labels.to(device)\n",
        "\n",
        "                # Forward pass - compute outputs on input data using the model\n",
        "                outputs = model(inputs)\n",
        "\n",
        "                # Compute loss\n",
        "                loss = loss_criterion(outputs, labels)\n",
        "\n",
        "                # Compute the total loss for the batch and add it to valid_loss\n",
        "                valid_loss += loss.item() * inputs.size(0)\n",
        "\n",
        "                # Calculate validation accuracy\n",
        "                ret, predictions = torch.max(outputs.data, 1)\n",
        "                correct_counts = predictions.eq(labels.data.view_as(predictions))\n",
        "\n",
        "                # Convert correct_counts to float and then compute the mean\n",
        "                acc = torch.mean(correct_counts.type(torch.FloatTensor))\n",
        "\n",
        "                # Compute total accuracy in the whole batch and add to valid_acc\n",
        "                valid_acc += acc.item() * inputs.size(0)\n",
        "\n",
        "                #print(\"Validation Batch number: {:03d}, Validation: Loss: {:.4f}, Accuracy: {:.4f}\".format(j, loss.item(), acc.item()))\n",
        "            \n",
        "        # Find average training loss and training accuracy\n",
        "        avg_train_loss = train_loss/train_data_size \n",
        "        avg_train_acc = train_acc/train_data_size\n",
        "\n",
        "        # Find average training loss and training accuracy\n",
        "        avg_test_loss = valid_loss/test_data_size \n",
        "        avg_test_acc = valid_acc/test_data_size\n",
        "\n",
        "        history.append([avg_train_loss, avg_test_loss, avg_train_acc, avg_test_acc])\n",
        "                \n",
        "        epoch_end = time.time()\n",
        "    \n",
        "        print(\"Epoch : {:03d}, Training: Loss: {:.4f}, Accuracy: {:.4f}%, \\n\\t\\tValidation : Loss : {:.4f}, Accuracy: {:.4f}%, Time: {:.4f}s\".format(epoch, avg_train_loss, avg_train_acc*100, avg_test_loss, avg_test_acc*100, epoch_end-epoch_start))\n",
        "        \n",
        "        # Save if the model has best accuracy till now\n",
        "        torch.save(model, 'cifar10_model_'+str(epoch)+'.pt')\n",
        "            \n",
        "    return model, history"
      ],
      "metadata": {
        "id": "coZu1XylBto5"
      },
      "execution_count": 57,
      "outputs": []
    },
    {
      "cell_type": "code",
      "source": [
        "# 4. Train the model for 10 epochs\n",
        "\n",
        "num_epochs = 30\n",
        "trained_model, history = train_and_validate(model, criterion, optimizer, num_epochs)"
      ],
      "metadata": {
        "colab": {
          "base_uri": "https://localhost:8080/"
        },
        "id": "-SmtipeTB1F3",
        "outputId": "0848b7e1-d5ca-45ed-8a72-af89c2bb5dc0"
      },
      "execution_count": 58,
      "outputs": [
        {
          "output_type": "stream",
          "name": "stdout",
          "text": [
            "Epoch: 1/30\n",
            "Epoch : 000, Training: Loss: 1.0891, Accuracy: 44.2231%, \n",
            "\t\tValidation : Loss : 1.0946, Accuracy: 39.3939%, Time: 14.2388s\n",
            "Epoch: 2/30\n",
            "Epoch : 001, Training: Loss: 1.0891, Accuracy: 44.2231%, \n",
            "\t\tValidation : Loss : 1.0946, Accuracy: 39.3939%, Time: 14.0712s\n",
            "Epoch: 3/30\n",
            "Epoch : 002, Training: Loss: 1.0891, Accuracy: 44.2231%, \n",
            "\t\tValidation : Loss : 1.0946, Accuracy: 39.3939%, Time: 14.3266s\n",
            "Epoch: 4/30\n",
            "Epoch : 003, Training: Loss: 1.0891, Accuracy: 44.2231%, \n",
            "\t\tValidation : Loss : 1.0946, Accuracy: 39.3939%, Time: 13.9065s\n",
            "Epoch: 5/30\n",
            "Epoch : 004, Training: Loss: 1.0891, Accuracy: 44.2231%, \n",
            "\t\tValidation : Loss : 1.0946, Accuracy: 39.3939%, Time: 13.9603s\n",
            "Epoch: 6/30\n",
            "Epoch : 005, Training: Loss: 1.0891, Accuracy: 44.2231%, \n",
            "\t\tValidation : Loss : 1.0946, Accuracy: 39.3939%, Time: 14.0532s\n",
            "Epoch: 7/30\n",
            "Epoch : 006, Training: Loss: 1.0891, Accuracy: 44.2231%, \n",
            "\t\tValidation : Loss : 1.0946, Accuracy: 39.3939%, Time: 14.0431s\n",
            "Epoch: 8/30\n",
            "Epoch : 007, Training: Loss: 1.0891, Accuracy: 44.2231%, \n",
            "\t\tValidation : Loss : 1.0946, Accuracy: 39.3939%, Time: 14.9260s\n",
            "Epoch: 9/30\n",
            "Epoch : 008, Training: Loss: 1.0891, Accuracy: 44.2231%, \n",
            "\t\tValidation : Loss : 1.0946, Accuracy: 39.3939%, Time: 14.7539s\n",
            "Epoch: 10/30\n",
            "Epoch : 009, Training: Loss: 1.0891, Accuracy: 44.2231%, \n",
            "\t\tValidation : Loss : 1.0946, Accuracy: 39.3939%, Time: 14.2534s\n",
            "Epoch: 11/30\n",
            "Epoch : 010, Training: Loss: 1.0891, Accuracy: 44.2231%, \n",
            "\t\tValidation : Loss : 1.0946, Accuracy: 39.3939%, Time: 13.9958s\n",
            "Epoch: 12/30\n",
            "Epoch : 011, Training: Loss: 1.0891, Accuracy: 44.2231%, \n",
            "\t\tValidation : Loss : 1.0946, Accuracy: 39.3939%, Time: 14.0755s\n",
            "Epoch: 13/30\n",
            "Epoch : 012, Training: Loss: 1.0891, Accuracy: 44.2231%, \n",
            "\t\tValidation : Loss : 1.0946, Accuracy: 39.3939%, Time: 14.0867s\n",
            "Epoch: 14/30\n",
            "Epoch : 013, Training: Loss: 1.0891, Accuracy: 44.2231%, \n",
            "\t\tValidation : Loss : 1.0946, Accuracy: 39.3939%, Time: 14.0752s\n",
            "Epoch: 15/30\n",
            "Epoch : 014, Training: Loss: 1.0891, Accuracy: 44.2231%, \n",
            "\t\tValidation : Loss : 1.0946, Accuracy: 39.3939%, Time: 14.1210s\n",
            "Epoch: 16/30\n",
            "Epoch : 015, Training: Loss: 1.0891, Accuracy: 44.2231%, \n",
            "\t\tValidation : Loss : 1.0946, Accuracy: 39.3939%, Time: 14.0914s\n",
            "Epoch: 17/30\n",
            "Epoch : 016, Training: Loss: 1.0891, Accuracy: 44.2231%, \n",
            "\t\tValidation : Loss : 1.0946, Accuracy: 39.3939%, Time: 14.0098s\n",
            "Epoch: 18/30\n",
            "Epoch : 017, Training: Loss: 1.0891, Accuracy: 44.2231%, \n",
            "\t\tValidation : Loss : 1.0946, Accuracy: 39.3939%, Time: 14.1540s\n",
            "Epoch: 19/30\n",
            "Epoch : 018, Training: Loss: 1.0891, Accuracy: 44.2231%, \n",
            "\t\tValidation : Loss : 1.0946, Accuracy: 39.3939%, Time: 14.3110s\n",
            "Epoch: 20/30\n",
            "Epoch : 019, Training: Loss: 1.0891, Accuracy: 44.2231%, \n",
            "\t\tValidation : Loss : 1.0946, Accuracy: 39.3939%, Time: 14.7239s\n",
            "Epoch: 21/30\n",
            "Epoch : 020, Training: Loss: 1.0891, Accuracy: 44.2231%, \n",
            "\t\tValidation : Loss : 1.0946, Accuracy: 39.3939%, Time: 14.0958s\n",
            "Epoch: 22/30\n",
            "Epoch : 021, Training: Loss: 1.0891, Accuracy: 44.2231%, \n",
            "\t\tValidation : Loss : 1.0946, Accuracy: 39.3939%, Time: 14.1862s\n",
            "Epoch: 23/30\n",
            "Epoch : 022, Training: Loss: 1.0891, Accuracy: 44.2231%, \n",
            "\t\tValidation : Loss : 1.0946, Accuracy: 39.3939%, Time: 14.1950s\n",
            "Epoch: 24/30\n",
            "Epoch : 023, Training: Loss: 1.0891, Accuracy: 44.2231%, \n",
            "\t\tValidation : Loss : 1.0946, Accuracy: 39.3939%, Time: 13.9568s\n",
            "Epoch: 25/30\n",
            "Epoch : 024, Training: Loss: 1.0891, Accuracy: 44.2231%, \n",
            "\t\tValidation : Loss : 1.0946, Accuracy: 39.3939%, Time: 13.9907s\n",
            "Epoch: 26/30\n",
            "Epoch : 025, Training: Loss: 1.0891, Accuracy: 44.2231%, \n",
            "\t\tValidation : Loss : 1.0946, Accuracy: 39.3939%, Time: 14.1576s\n",
            "Epoch: 27/30\n",
            "Epoch : 026, Training: Loss: 1.0891, Accuracy: 44.2231%, \n",
            "\t\tValidation : Loss : 1.0946, Accuracy: 39.3939%, Time: 13.9291s\n",
            "Epoch: 28/30\n",
            "Epoch : 027, Training: Loss: 1.0891, Accuracy: 44.2231%, \n",
            "\t\tValidation : Loss : 1.0946, Accuracy: 39.3939%, Time: 14.1332s\n",
            "Epoch: 29/30\n",
            "Epoch : 028, Training: Loss: 1.0891, Accuracy: 44.2231%, \n",
            "\t\tValidation : Loss : 1.0946, Accuracy: 39.3939%, Time: 13.9619s\n",
            "Epoch: 30/30\n",
            "Epoch : 029, Training: Loss: 1.0891, Accuracy: 44.2231%, \n",
            "\t\tValidation : Loss : 1.0946, Accuracy: 39.3939%, Time: 14.1243s\n"
          ]
        }
      ]
    },
    {
      "cell_type": "code",
      "source": [
        "# 5. Analyze the loss curve\n",
        "\n",
        "history = np.array(history)\n",
        "plt.plot(history[:,0:2])\n",
        "plt.legend(['Tr Loss', 'Val Loss'])\n",
        "plt.xlabel('Epoch Number')\n",
        "plt.ylabel('Loss')\n",
        "plt.ylim(0,3)\n",
        "# plt.savefig('cifar10_loss_curve.png')\n",
        "plt.show()"
      ],
      "metadata": {
        "colab": {
          "base_uri": "https://localhost:8080/",
          "height": 283
        },
        "id": "XFKab9a8B7_X",
        "outputId": "5115aacf-fca5-42df-8e51-d259bb44b3fe"
      },
      "execution_count": 64,
      "outputs": [
        {
          "output_type": "display_data",
          "data": {
            "text/plain": [
              "<Figure size 432x288 with 1 Axes>"
            ],
            "image/png": "[encoded data removed]"
          },
          "metadata": {
            "needs_background": "light"
          }
        }
      ]
    },
    {
      "cell_type": "code",
      "source": [
        "# 6. Analyze the accuracy curve\n",
        "\n",
        "plt.plot(history[:,2:4])\n",
        "plt.legend(['Tr Accuracy', 'Val Accuracy'])\n",
        "plt.xlabel('Epoch Number')\n",
        "plt.ylabel('Accuracy')\n",
        "plt.ylim(0,1)\n",
        "# plt.savefig('cifar10_accuracy_curve.png')\n",
        "plt.show()"
      ],
      "metadata": {
        "colab": {
          "base_uri": "https://localhost:8080/",
          "height": 283
        },
        "id": "tqH2wHlxB8e5",
        "outputId": "2d42ca59-d2e0-4ab8-d85f-0ce2a937e6ca"
      },
      "execution_count": 65,
      "outputs": [
        {
          "output_type": "display_data",
          "data": {
            "text/plain": [
              "<Figure size 432x288 with 1 Axes>"
            ],
            "image/png": "[encoded data removed]"
          },
          "metadata": {
            "needs_background": "light"
          }
        }
      ]
    },
    {
      "cell_type": "code",
      "source": [
        "correct = 0\n",
        "total = 0\n",
        "# since we're not training, we don't need to calculate the gradients for our outputs\n",
        "with torch.no_grad():\n",
        "    for data in testloader:\n",
        "#         images, labels = data\n",
        "        images, labels = data[0].to(device), data[1].to(device)\n",
        "        # calculate outputs by running images through the network\n",
        "#         images = images.view(images.size(0), -1)\n",
        "        outputs = model(images)\n",
        "        # the class with the highest energy is what we choose as prediction\n",
        "        _, predicted = torch.max(outputs.data, 1)\n",
        "        total += labels.size(0)\n",
        "        correct += (predicted == labels).sum().item()\n",
        "\n",
        "print(f'Accuracy of the network on the 10000 test images: {100 * correct // total} %')"
      ],
      "metadata": {
        "colab": {
          "base_uri": "https://localhost:8080/"
        },
        "id": "7X3rNMyGCBzA",
        "outputId": "30f114cc-fe38-4a2b-b6c7-c71124d4b33d"
      },
      "execution_count": 66,
      "outputs": [
        {
          "output_type": "stream",
          "name": "stdout",
          "text": [
            "Accuracy of the network on the 10000 test images: 39 %\n"
          ]
        }
      ]
    },
    {
      "cell_type": "code",
      "source": [
        "# prepare to count predictions for each class\n",
        "correct_pred = {classname: 0 for classname in classes}\n",
        "total_pred = {classname: 0 for classname in classes}\n",
        "\n",
        "# again no gradients needed\n",
        "with torch.no_grad():\n",
        "    for data in testloader:\n",
        "        images, labels = data[0].to(device), data[1].to(device)\n",
        "#         images = images.view(images.size(0), -1)\n",
        "        outputs = model(images)\n",
        "        _, predictions = torch.max(outputs, 1)\n",
        "        # collect the correct predictions for each class\n",
        "        for label, prediction in zip(labels, predictions):\n",
        "            if label == prediction:\n",
        "                correct_pred[classes[label]] += 1\n",
        "            total_pred[classes[label]] += 1\n",
        "\n",
        "\n",
        "# print accuracy for each class\n",
        "for classname, correct_count in correct_pred.items():\n",
        "    accuracy = 100 * float(correct_count) / total_pred[classname]\n",
        "    print(f'Accuracy for class: {classname:5s} is {accuracy:.1f} %')"
      ],
      "metadata": {
        "colab": {
          "base_uri": "https://localhost:8080/"
        },
        "id": "UkwgXMBFCCaP",
        "outputId": "c60c0188-80c6-488a-ba75-b6af6dc7250f"
      },
      "execution_count": 67,
      "outputs": [
        {
          "output_type": "stream",
          "name": "stdout",
          "text": [
            "Accuracy for class: Viral Pneumonia is 100.0 %\n",
            "Accuracy for class: Normal is 0.0 %\n",
            "Accuracy for class: Covid is 0.0 %\n"
          ]
        }
      ]
    },
    {
      "cell_type": "markdown",
      "metadata": {
        "id": "z1Zjsjxq8zuq"
      },
      "source": [
        "d) Replace your defined ConvNet in b) with a pre-trained model. Then, proceed with a transfer learning and finetune the model for the COVID-19 dataset. **(10 marks)**"
      ]
    },
    {
      "cell_type": "code",
      "source": [
        "model_ft = models.shufflenet_v2_x0_5(pretrained=True)\n",
        "num_ftrs = model_ft.fc.in_features\n",
        "# Here the size of each output sample is set to 10.\n",
        "# Alternatively, it can be generalized to nn.Linear(num_ftrs, len(class_names)).\n",
        "model_ft.fc = nn.Linear(num_ftrs, 10)\n",
        "\n",
        "model_ft = model_ft.to(device)\n",
        "\n",
        "criterion = nn.CrossEntropyLoss()\n",
        "\n",
        "optimizer_ft = optim.SGD(model_ft.parameters(), lr=0.001, momentum=0.9)"
      ],
      "metadata": {
        "colab": {
          "base_uri": "https://localhost:8080/",
          "height": 156,
          "referenced_widgets": [
            "3a092711a12347a7a5c3faccb4423225",
            "e4dc207b82ac48849e294046f2c554b6",
            "5e08f998e17d49a8a9d1b2376076191b",
            "1c8f8dbc445746cda332115be684fabc",
            "261b521a64b24b9c9f8070b29fa2666c",
            "4b6f9a9767f74c60b3f02c17349f8e2a",
            "96ce6f2a3c1247dd9d2a29d5c506e970",
            "e918ffc5b1fb456c9d582b695ee7aa77",
            "f9618f0c0360452fbccb2161cf6a1964",
            "2af4c70a2c6a45e9a9d98d373cc63816",
            "05ad41b7081f48638521c7e748d792f4"
          ]
        },
        "id": "pstf7ImYCVO3",
        "outputId": "6f5382cf-24a9-4ef7-9bee-345b3e22333d"
      },
      "execution_count": 59,
      "outputs": [
        {
          "output_type": "stream",
          "name": "stderr",
          "text": [
            "/usr/local/lib/python3.8/dist-packages/torchvision/models/_utils.py:208: UserWarning: The parameter 'pretrained' is deprecated since 0.13 and may be removed in the future, please use 'weights' instead.\n",
            "  warnings.warn(\n",
            "/usr/local/lib/python3.8/dist-packages/torchvision/models/_utils.py:223: UserWarning: Arguments other than a weight enum or `None` for 'weights' are deprecated since 0.13 and may be removed in the future. The current behavior is equivalent to passing `weights=ShuffleNet_V2_X0_5_Weights.IMAGENET1K_V1`. You can also use `weights=ShuffleNet_V2_X0_5_Weights.DEFAULT` to get the most up-to-date weights.\n",
            "  warnings.warn(msg)\n",
            "Downloading: \"https://download.pytorch.org/models/shufflenetv2_x0.5-f707e7126e.pth\" to /root/.cache/torch/hub/checkpoints/shufflenetv2_x0.5-f707e7126e.pth\n"
          ]
        },
        {
          "output_type": "display_data",
          "data": {
            "text/plain": [
              "  0%|          | 0.00/5.28M [00:00<?, ?B/s]"
            ],
            "application/vnd.jupyter.widget-view+json": {
              "version_major": 2,
              "version_minor": 0,
              "model_id": "3a092711a12347a7a5c3faccb4423225"
            }
          },
          "metadata": {}
        }
      ]
    },
    {
      "cell_type": "code",
      "source": [
        "model_ft"
      ],
      "metadata": {
        "colab": {
          "base_uri": "https://localhost:8080/"
        },
        "id": "ooHfErZlCYJg",
        "outputId": "da2e16e5-3766-47bb-9df0-8b05ac544322"
      },
      "execution_count": 60,
      "outputs": [
        {
          "output_type": "execute_result",
          "data": {
            "text/plain": [
              "ShuffleNetV2(\n",
              "  (conv1): Sequential(\n",
              "    (0): Conv2d(3, 24, kernel_size=(3, 3), stride=(2, 2), padding=(1, 1), bias=False)\n",
              "    (1): BatchNorm2d(24, eps=1e-05, momentum=0.1, affine=True, track_running_stats=True)\n",
              "    (2): ReLU(inplace=True)\n",
              "  )\n",
              "  (maxpool): MaxPool2d(kernel_size=3, stride=2, padding=1, dilation=1, ceil_mode=False)\n",
              "  (stage2): Sequential(\n",
              "    (0): InvertedResidual(\n",
              "      (branch1): Sequential(\n",
              "        (0): Conv2d(24, 24, kernel_size=(3, 3), stride=(2, 2), padding=(1, 1), groups=24, bias=False)\n",
              "        (1): BatchNorm2d(24, eps=1e-05, momentum=0.1, affine=True, track_running_stats=True)\n",
              "        (2): Conv2d(24, 24, kernel_size=(1, 1), stride=(1, 1), bias=False)\n",
              "        (3): BatchNorm2d(24, eps=1e-05, momentum=0.1, affine=True, track_running_stats=True)\n",
              "        (4): ReLU(inplace=True)\n",
              "      )\n",
              "      (branch2): Sequential(\n",
              "        (0): Conv2d(24, 24, kernel_size=(1, 1), stride=(1, 1), bias=False)\n",
              "        (1): BatchNorm2d(24, eps=1e-05, momentum=0.1, affine=True, track_running_stats=True)\n",
              "        (2): ReLU(inplace=True)\n",
              "        (3): Conv2d(24, 24, kernel_size=(3, 3), stride=(2, 2), padding=(1, 1), groups=24, bias=False)\n",
              "        (4): BatchNorm2d(24, eps=1e-05, momentum=0.1, affine=True, track_running_stats=True)\n",
              "        (5): Conv2d(24, 24, kernel_size=(1, 1), stride=(1, 1), bias=False)\n",
              "        (6): BatchNorm2d(24, eps=1e-05, momentum=0.1, affine=True, track_running_stats=True)\n",
              "        (7): ReLU(inplace=True)\n",
              "      )\n",
              "    )\n",
              "    (1): InvertedResidual(\n",
              "      (branch1): Sequential()\n",
              "      (branch2): Sequential(\n",
              "        (0): Conv2d(24, 24, kernel_size=(1, 1), stride=(1, 1), bias=False)\n",
              "        (1): BatchNorm2d(24, eps=1e-05, momentum=0.1, affine=True, track_running_stats=True)\n",
              "        (2): ReLU(inplace=True)\n",
              "        (3): Conv2d(24, 24, kernel_size=(3, 3), stride=(1, 1), padding=(1, 1), groups=24, bias=False)\n",
              "        (4): BatchNorm2d(24, eps=1e-05, momentum=0.1, affine=True, track_running_stats=True)\n",
              "        (5): Conv2d(24, 24, kernel_size=(1, 1), stride=(1, 1), bias=False)\n",
              "        (6): BatchNorm2d(24, eps=1e-05, momentum=0.1, affine=True, track_running_stats=True)\n",
              "        (7): ReLU(inplace=True)\n",
              "      )\n",
              "    )\n",
              "    (2): InvertedResidual(\n",
              "      (branch1): Sequential()\n",
              "      (branch2): Sequential(\n",
              "        (0): Conv2d(24, 24, kernel_size=(1, 1), stride=(1, 1), bias=False)\n",
              "        (1): BatchNorm2d(24, eps=1e-05, momentum=0.1, affine=True, track_running_stats=True)\n",
              "        (2): ReLU(inplace=True)\n",
              "        (3): Conv2d(24, 24, kernel_size=(3, 3), stride=(1, 1), padding=(1, 1), groups=24, bias=False)\n",
              "        (4): BatchNorm2d(24, eps=1e-05, momentum=0.1, affine=True, track_running_stats=True)\n",
              "        (5): Conv2d(24, 24, kernel_size=(1, 1), stride=(1, 1), bias=False)\n",
              "        (6): BatchNorm2d(24, eps=1e-05, momentum=0.1, affine=True, track_running_stats=True)\n",
              "        (7): ReLU(inplace=True)\n",
              "      )\n",
              "    )\n",
              "    (3): InvertedResidual(\n",
              "      (branch1): Sequential()\n",
              "      (branch2): Sequential(\n",
              "        (0): Conv2d(24, 24, kernel_size=(1, 1), stride=(1, 1), bias=False)\n",
              "        (1): BatchNorm2d(24, eps=1e-05, momentum=0.1, affine=True, track_running_stats=True)\n",
              "        (2): ReLU(inplace=True)\n",
              "        (3): Conv2d(24, 24, kernel_size=(3, 3), stride=(1, 1), padding=(1, 1), groups=24, bias=False)\n",
              "        (4): BatchNorm2d(24, eps=1e-05, momentum=0.1, affine=True, track_running_stats=True)\n",
              "        (5): Conv2d(24, 24, kernel_size=(1, 1), stride=(1, 1), bias=False)\n",
              "        (6): BatchNorm2d(24, eps=1e-05, momentum=0.1, affine=True, track_running_stats=True)\n",
              "        (7): ReLU(inplace=True)\n",
              "      )\n",
              "    )\n",
              "  )\n",
              "  (stage3): Sequential(\n",
              "    (0): InvertedResidual(\n",
              "      (branch1): Sequential(\n",
              "        (0): Conv2d(48, 48, kernel_size=(3, 3), stride=(2, 2), padding=(1, 1), groups=48, bias=False)\n",
              "        (1): BatchNorm2d(48, eps=1e-05, momentum=0.1, affine=True, track_running_stats=True)\n",
              "        (2): Conv2d(48, 48, kernel_size=(1, 1), stride=(1, 1), bias=False)\n",
              "        (3): BatchNorm2d(48, eps=1e-05, momentum=0.1, affine=True, track_running_stats=True)\n",
              "        (4): ReLU(inplace=True)\n",
              "      )\n",
              "      (branch2): Sequential(\n",
              "        (0): Conv2d(48, 48, kernel_size=(1, 1), stride=(1, 1), bias=False)\n",
              "        (1): BatchNorm2d(48, eps=1e-05, momentum=0.1, affine=True, track_running_stats=True)\n",
              "        (2): ReLU(inplace=True)\n",
              "        (3): Conv2d(48, 48, kernel_size=(3, 3), stride=(2, 2), padding=(1, 1), groups=48, bias=False)\n",
              "        (4): BatchNorm2d(48, eps=1e-05, momentum=0.1, affine=True, track_running_stats=True)\n",
              "        (5): Conv2d(48, 48, kernel_size=(1, 1), stride=(1, 1), bias=False)\n",
              "        (6): BatchNorm2d(48, eps=1e-05, momentum=0.1, affine=True, track_running_stats=True)\n",
              "        (7): ReLU(inplace=True)\n",
              "      )\n",
              "    )\n",
              "    (1): InvertedResidual(\n",
              "      (branch1): Sequential()\n",
              "      (branch2): Sequential(\n",
              "        (0): Conv2d(48, 48, kernel_size=(1, 1), stride=(1, 1), bias=False)\n",
              "        (1): BatchNorm2d(48, eps=1e-05, momentum=0.1, affine=True, track_running_stats=True)\n",
              "        (2): ReLU(inplace=True)\n",
              "        (3): Conv2d(48, 48, kernel_size=(3, 3), stride=(1, 1), padding=(1, 1), groups=48, bias=False)\n",
              "        (4): BatchNorm2d(48, eps=1e-05, momentum=0.1, affine=True, track_running_stats=True)\n",
              "        (5): Conv2d(48, 48, kernel_size=(1, 1), stride=(1, 1), bias=False)\n",
              "        (6): BatchNorm2d(48, eps=1e-05, momentum=0.1, affine=True, track_running_stats=True)\n",
              "        (7): ReLU(inplace=True)\n",
              "      )\n",
              "    )\n",
              "    (2): InvertedResidual(\n",
              "      (branch1): Sequential()\n",
              "      (branch2): Sequential(\n",
              "        (0): Conv2d(48, 48, kernel_size=(1, 1), stride=(1, 1), bias=False)\n",
              "        (1): BatchNorm2d(48, eps=1e-05, momentum=0.1, affine=True, track_running_stats=True)\n",
              "        (2): ReLU(inplace=True)\n",
              "        (3): Conv2d(48, 48, kernel_size=(3, 3), stride=(1, 1), padding=(1, 1), groups=48, bias=False)\n",
              "        (4): BatchNorm2d(48, eps=1e-05, momentum=0.1, affine=True, track_running_stats=True)\n",
              "        (5): Conv2d(48, 48, kernel_size=(1, 1), stride=(1, 1), bias=False)\n",
              "        (6): BatchNorm2d(48, eps=1e-05, momentum=0.1, affine=True, track_running_stats=True)\n",
              "        (7): ReLU(inplace=True)\n",
              "      )\n",
              "    )\n",
              "    (3): InvertedResidual(\n",
              "      (branch1): Sequential()\n",
              "      (branch2): Sequential(\n",
              "        (0): Conv2d(48, 48, kernel_size=(1, 1), stride=(1, 1), bias=False)\n",
              "        (1): BatchNorm2d(48, eps=1e-05, momentum=0.1, affine=True, track_running_stats=True)\n",
              "        (2): ReLU(inplace=True)\n",
              "        (3): Conv2d(48, 48, kernel_size=(3, 3), stride=(1, 1), padding=(1, 1), groups=48, bias=False)\n",
              "        (4): BatchNorm2d(48, eps=1e-05, momentum=0.1, affine=True, track_running_stats=True)\n",
              "        (5): Conv2d(48, 48, kernel_size=(1, 1), stride=(1, 1), bias=False)\n",
              "        (6): BatchNorm2d(48, eps=1e-05, momentum=0.1, affine=True, track_running_stats=True)\n",
              "        (7): ReLU(inplace=True)\n",
              "      )\n",
              "    )\n",
              "    (4): InvertedResidual(\n",
              "      (branch1): Sequential()\n",
              "      (branch2): Sequential(\n",
              "        (0): Conv2d(48, 48, kernel_size=(1, 1), stride=(1, 1), bias=False)\n",
              "        (1): BatchNorm2d(48, eps=1e-05, momentum=0.1, affine=True, track_running_stats=True)\n",
              "        (2): ReLU(inplace=True)\n",
              "        (3): Conv2d(48, 48, kernel_size=(3, 3), stride=(1, 1), padding=(1, 1), groups=48, bias=False)\n",
              "        (4): BatchNorm2d(48, eps=1e-05, momentum=0.1, affine=True, track_running_stats=True)\n",
              "        (5): Conv2d(48, 48, kernel_size=(1, 1), stride=(1, 1), bias=False)\n",
              "        (6): BatchNorm2d(48, eps=1e-05, momentum=0.1, affine=True, track_running_stats=True)\n",
              "        (7): ReLU(inplace=True)\n",
              "      )\n",
              "    )\n",
              "    (5): InvertedResidual(\n",
              "      (branch1): Sequential()\n",
              "      (branch2): Sequential(\n",
              "        (0): Conv2d(48, 48, kernel_size=(1, 1), stride=(1, 1), bias=False)\n",
              "        (1): BatchNorm2d(48, eps=1e-05, momentum=0.1, affine=True, track_running_stats=True)\n",
              "        (2): ReLU(inplace=True)\n",
              "        (3): Conv2d(48, 48, kernel_size=(3, 3), stride=(1, 1), padding=(1, 1), groups=48, bias=False)\n",
              "        (4): BatchNorm2d(48, eps=1e-05, momentum=0.1, affine=True, track_running_stats=True)\n",
              "        (5): Conv2d(48, 48, kernel_size=(1, 1), stride=(1, 1), bias=False)\n",
              "        (6): BatchNorm2d(48, eps=1e-05, momentum=0.1, affine=True, track_running_stats=True)\n",
              "        (7): ReLU(inplace=True)\n",
              "      )\n",
              "    )\n",
              "    (6): InvertedResidual(\n",
              "      (branch1): Sequential()\n",
              "      (branch2): Sequential(\n",
              "        (0): Conv2d(48, 48, kernel_size=(1, 1), stride=(1, 1), bias=False)\n",
              "        (1): BatchNorm2d(48, eps=1e-05, momentum=0.1, affine=True, track_running_stats=True)\n",
              "        (2): ReLU(inplace=True)\n",
              "        (3): Conv2d(48, 48, kernel_size=(3, 3), stride=(1, 1), padding=(1, 1), groups=48, bias=False)\n",
              "        (4): BatchNorm2d(48, eps=1e-05, momentum=0.1, affine=True, track_running_stats=True)\n",
              "        (5): Conv2d(48, 48, kernel_size=(1, 1), stride=(1, 1), bias=False)\n",
              "        (6): BatchNorm2d(48, eps=1e-05, momentum=0.1, affine=True, track_running_stats=True)\n",
              "        (7): ReLU(inplace=True)\n",
              "      )\n",
              "    )\n",
              "    (7): InvertedResidual(\n",
              "      (branch1): Sequential()\n",
              "      (branch2): Sequential(\n",
              "        (0): Conv2d(48, 48, kernel_size=(1, 1), stride=(1, 1), bias=False)\n",
              "        (1): BatchNorm2d(48, eps=1e-05, momentum=0.1, affine=True, track_running_stats=True)\n",
              "        (2): ReLU(inplace=True)\n",
              "        (3): Conv2d(48, 48, kernel_size=(3, 3), stride=(1, 1), padding=(1, 1), groups=48, bias=False)\n",
              "        (4): BatchNorm2d(48, eps=1e-05, momentum=0.1, affine=True, track_running_stats=True)\n",
              "        (5): Conv2d(48, 48, kernel_size=(1, 1), stride=(1, 1), bias=False)\n",
              "        (6): BatchNorm2d(48, eps=1e-05, momentum=0.1, affine=True, track_running_stats=True)\n",
              "        (7): ReLU(inplace=True)\n",
              "      )\n",
              "    )\n",
              "  )\n",
              "  (stage4): Sequential(\n",
              "    (0): InvertedResidual(\n",
              "      (branch1): Sequential(\n",
              "        (0): Conv2d(96, 96, kernel_size=(3, 3), stride=(2, 2), padding=(1, 1), groups=96, bias=False)\n",
              "        (1): BatchNorm2d(96, eps=1e-05, momentum=0.1, affine=True, track_running_stats=True)\n",
              "        (2): Conv2d(96, 96, kernel_size=(1, 1), stride=(1, 1), bias=False)\n",
              "        (3): BatchNorm2d(96, eps=1e-05, momentum=0.1, affine=True, track_running_stats=True)\n",
              "        (4): ReLU(inplace=True)\n",
              "      )\n",
              "      (branch2): Sequential(\n",
              "        (0): Conv2d(96, 96, kernel_size=(1, 1), stride=(1, 1), bias=False)\n",
              "        (1): BatchNorm2d(96, eps=1e-05, momentum=0.1, affine=True, track_running_stats=True)\n",
              "        (2): ReLU(inplace=True)\n",
              "        (3): Conv2d(96, 96, kernel_size=(3, 3), stride=(2, 2), padding=(1, 1), groups=96, bias=False)\n",
              "        (4): BatchNorm2d(96, eps=1e-05, momentum=0.1, affine=True, track_running_stats=True)\n",
              "        (5): Conv2d(96, 96, kernel_size=(1, 1), stride=(1, 1), bias=False)\n",
              "        (6): BatchNorm2d(96, eps=1e-05, momentum=0.1, affine=True, track_running_stats=True)\n",
              "        (7): ReLU(inplace=True)\n",
              "      )\n",
              "    )\n",
              "    (1): InvertedResidual(\n",
              "      (branch1): Sequential()\n",
              "      (branch2): Sequential(\n",
              "        (0): Conv2d(96, 96, kernel_size=(1, 1), stride=(1, 1), bias=False)\n",
              "        (1): BatchNorm2d(96, eps=1e-05, momentum=0.1, affine=True, track_running_stats=True)\n",
              "        (2): ReLU(inplace=True)\n",
              "        (3): Conv2d(96, 96, kernel_size=(3, 3), stride=(1, 1), padding=(1, 1), groups=96, bias=False)\n",
              "        (4): BatchNorm2d(96, eps=1e-05, momentum=0.1, affine=True, track_running_stats=True)\n",
              "        (5): Conv2d(96, 96, kernel_size=(1, 1), stride=(1, 1), bias=False)\n",
              "        (6): BatchNorm2d(96, eps=1e-05, momentum=0.1, affine=True, track_running_stats=True)\n",
              "        (7): ReLU(inplace=True)\n",
              "      )\n",
              "    )\n",
              "    (2): InvertedResidual(\n",
              "      (branch1): Sequential()\n",
              "      (branch2): Sequential(\n",
              "        (0): Conv2d(96, 96, kernel_size=(1, 1), stride=(1, 1), bias=False)\n",
              "        (1): BatchNorm2d(96, eps=1e-05, momentum=0.1, affine=True, track_running_stats=True)\n",
              "        (2): ReLU(inplace=True)\n",
              "        (3): Conv2d(96, 96, kernel_size=(3, 3), stride=(1, 1), padding=(1, 1), groups=96, bias=False)\n",
              "        (4): BatchNorm2d(96, eps=1e-05, momentum=0.1, affine=True, track_running_stats=True)\n",
              "        (5): Conv2d(96, 96, kernel_size=(1, 1), stride=(1, 1), bias=False)\n",
              "        (6): BatchNorm2d(96, eps=1e-05, momentum=0.1, affine=True, track_running_stats=True)\n",
              "        (7): ReLU(inplace=True)\n",
              "      )\n",
              "    )\n",
              "    (3): InvertedResidual(\n",
              "      (branch1): Sequential()\n",
              "      (branch2): Sequential(\n",
              "        (0): Conv2d(96, 96, kernel_size=(1, 1), stride=(1, 1), bias=False)\n",
              "        (1): BatchNorm2d(96, eps=1e-05, momentum=0.1, affine=True, track_running_stats=True)\n",
              "        (2): ReLU(inplace=True)\n",
              "        (3): Conv2d(96, 96, kernel_size=(3, 3), stride=(1, 1), padding=(1, 1), groups=96, bias=False)\n",
              "        (4): BatchNorm2d(96, eps=1e-05, momentum=0.1, affine=True, track_running_stats=True)\n",
              "        (5): Conv2d(96, 96, kernel_size=(1, 1), stride=(1, 1), bias=False)\n",
              "        (6): BatchNorm2d(96, eps=1e-05, momentum=0.1, affine=True, track_running_stats=True)\n",
              "        (7): ReLU(inplace=True)\n",
              "      )\n",
              "    )\n",
              "  )\n",
              "  (conv5): Sequential(\n",
              "    (0): Conv2d(192, 1024, kernel_size=(1, 1), stride=(1, 1), bias=False)\n",
              "    (1): BatchNorm2d(1024, eps=1e-05, momentum=0.1, affine=True, track_running_stats=True)\n",
              "    (2): ReLU(inplace=True)\n",
              "  )\n",
              "  (fc): Linear(in_features=1024, out_features=10, bias=True)\n",
              ")"
            ]
          },
          "metadata": {},
          "execution_count": 60
        }
      ]
    },
    {
      "cell_type": "code",
      "source": [
        "num_epochs = 10\n",
        "trained_model, history = train_and_validate(model_ft, criterion, optimizer_ft, num_epochs)"
      ],
      "metadata": {
        "colab": {
          "base_uri": "https://localhost:8080/"
        },
        "id": "D0G0jZdiCemu",
        "outputId": "a0269ed3-7a81-4e15-ff23-149bbea16d90"
      },
      "execution_count": 61,
      "outputs": [
        {
          "output_type": "stream",
          "name": "stdout",
          "text": [
            "Epoch: 1/10\n",
            "Epoch : 000, Training: Loss: 2.2359, Accuracy: 32.2709%, \n",
            "\t\tValidation : Loss : 2.1616, Accuracy: 39.3939%, Time: 16.7073s\n",
            "Epoch: 2/10\n",
            "Epoch : 001, Training: Loss: 2.0660, Accuracy: 44.2231%, \n",
            "\t\tValidation : Loss : 2.0078, Accuracy: 39.3939%, Time: 15.9333s\n",
            "Epoch: 3/10\n",
            "Epoch : 002, Training: Loss: 1.9149, Accuracy: 44.2231%, \n",
            "\t\tValidation : Loss : 1.8755, Accuracy: 39.3939%, Time: 17.2548s\n",
            "Epoch: 4/10\n",
            "Epoch : 003, Training: Loss: 1.7841, Accuracy: 44.2231%, \n",
            "\t\tValidation : Loss : 1.7738, Accuracy: 39.3939%, Time: 15.9039s\n",
            "Epoch: 5/10\n",
            "Epoch : 004, Training: Loss: 1.6674, Accuracy: 44.2231%, \n",
            "\t\tValidation : Loss : 1.6690, Accuracy: 39.3939%, Time: 16.0688s\n",
            "Epoch: 6/10\n",
            "Epoch : 005, Training: Loss: 1.5716, Accuracy: 44.2231%, \n",
            "\t\tValidation : Loss : 1.5844, Accuracy: 39.3939%, Time: 17.1257s\n",
            "Epoch: 7/10\n",
            "Epoch : 006, Training: Loss: 1.4766, Accuracy: 44.2231%, \n",
            "\t\tValidation : Loss : 1.5146, Accuracy: 39.3939%, Time: 16.3186s\n",
            "Epoch: 8/10\n",
            "Epoch : 007, Training: Loss: 1.3955, Accuracy: 44.2231%, \n",
            "\t\tValidation : Loss : 1.4431, Accuracy: 39.3939%, Time: 16.0654s\n",
            "Epoch: 9/10\n",
            "Epoch : 008, Training: Loss: 1.3272, Accuracy: 44.2231%, \n",
            "\t\tValidation : Loss : 1.3543, Accuracy: 39.3939%, Time: 15.7656s\n",
            "Epoch: 10/10\n",
            "Epoch : 009, Training: Loss: 1.2627, Accuracy: 44.2231%, \n",
            "\t\tValidation : Loss : 1.3053, Accuracy: 39.3939%, Time: 16.6107s\n"
          ]
        }
      ]
    },
    {
      "cell_type": "code",
      "source": [
        "# def visualize_model(model, num_images=6):\n",
        "#     was_training = model.training\n",
        "#     model.eval()\n",
        "#     images_so_far = 0\n",
        "#     fig = plt.figure()\n",
        "\n",
        "#     with torch.no_grad():\n",
        "#         for i, (inputs, labels) in enumerate(dataloaders['val']):\n",
        "#             inputs = inputs.to(device)\n",
        "#             labels = labels.to(device)\n",
        "\n",
        "#             outputs = model(inputs)\n",
        "#             _, preds = torch.max(outputs, 1)\n",
        "\n",
        "#             for j in range(inputs.size()[0]):\n",
        "#                 images_so_far += 1\n",
        "#                 ax = plt.subplot(num_images//2, 2, images_so_far)\n",
        "#                 ax.axis('off')\n",
        "#                 ax.set_title(f'predicted: {class_names[preds[j]]}')\n",
        "#                 imshow(inputs.cpu().data[j])\n",
        "\n",
        "#                 if images_so_far == num_images:\n",
        "#                     model.train(mode=was_training)\n",
        "#                     return\n",
        "#         model.train(mode=was_training)\n",
        "\n",
        "# visualize_model(trained_model)"
      ],
      "metadata": {
        "id": "Tbrs_0Q9CfG3"
      },
      "execution_count": 63,
      "outputs": []
    },
    {
      "cell_type": "markdown",
      "metadata": {
        "id": "DzPPxsCX8zus"
      },
      "source": [
        "e) Do you see any accuracy improvement? Whether it is a \"yes\" or \"no\", discuss the possible reasons contributing to the accuracy improvement/ unimprovement. **(4 marks)**\n",
        "\n",
        "<span style=\"color:blue\">\n",
        "    Your answer here </span>"
      ]
    },
    {
      "cell_type": "markdown",
      "source": [
        "# **Yes there is an improvement. Beacuse, the pre-trained models are trained with higher gpu and tested with more data.**\n"
      ],
      "metadata": {
        "id": "FSiyQtcCCuHy"
      }
    },
    {
      "cell_type": "markdown",
      "metadata": {
        "id": "FCy3b5888zut"
      },
      "source": [
        "**QUESTION 3** **[15 marks]**\n",
        "\n",
        "In a machine vision project, you decide to design a door access control system based on hand gestures. Only those who shows the correct hand gesture will be granted the access. There are three gestures that are recognized as correct access passcode which are \"shaka\", \"peace\" and \"thumbs up\", as depicted in Fig. 2.\n",
        "\n",
        "![pic](https://simplyorganizedhi.com/media/catalog/product/1/6/169500.jpg)\n",
        "\n",
        "                                Fig. 2 Shaka,peace, and thumbs up\n",
        "\n",
        "\n",
        "Using the end-to-end object detection pipeline that you have learned, develop your own hand gesture detector so that it can be incorporate to a door access control system.\n",
        "\n",
        "Deliverables for this question are:\n",
        "\n",
        "- the model file. Change the name to <your_name>.pt file (e.g. hasan.pt).\n",
        "\n",
        "- 5 marks for plausible detection of each gesture."
      ]
    },
    {
      "cell_type": "code",
      "execution_count": null,
      "metadata": {
        "id": "9oIfLdzS8zut"
      },
      "outputs": [],
      "source": []
    }
  ],
  "metadata": {
    "colab": {
      "provenance": [],
      "include_colab_link": true
    },
    "kernelspec": {
      "display_name": "Python 3",
      "name": "python3"
    },
    "language_info": {
      "name": "python"
    },
    "accelerator": "GPU",
    "gpuClass": "standard",
    "widgets": {
      "application/vnd.jupyter.widget-state+json": {
        "3a092711a12347a7a5c3faccb4423225": {
          "model_module": "@jupyter-widgets/controls",
          "model_name": "HBoxModel",
          "model_module_version": "1.5.0",
          "state": {
            "_dom_classes": [],
            "_model_module": "@jupyter-widgets/controls",
            "_model_module_version": "1.5.0",
            "_model_name": "HBoxModel",
            "_view_count": null,
            "_view_module": "@jupyter-widgets/controls",
            "_view_module_version": "1.5.0",
            "_view_name": "HBoxView",
            "box_style": "",
            "children": [
              "IPY_MODEL_e4dc207b82ac48849e294046f2c554b6",
              "IPY_MODEL_5e08f998e17d49a8a9d1b2376076191b",
              "IPY_MODEL_1c8f8dbc445746cda332115be684fabc"
            ],
            "layout": "IPY_MODEL_261b521a64b24b9c9f8070b29fa2666c"
          }
        },
        "e4dc207b82ac48849e294046f2c554b6": {
          "model_module": "@jupyter-widgets/controls",
          "model_name": "HTMLModel",
          "model_module_version": "1.5.0",
          "state": {
            "_dom_classes": [],
            "_model_module": "@jupyter-widgets/controls",
            "_model_module_version": "1.5.0",
            "_model_name": "HTMLModel",
            "_view_count": null,
            "_view_module": "@jupyter-widgets/controls",
            "_view_module_version": "1.5.0",
            "_view_name": "HTMLView",
            "description": "",
            "description_tooltip": null,
            "layout": "IPY_MODEL_4b6f9a9767f74c60b3f02c17349f8e2a",
            "placeholder": "​",
            "style": "IPY_MODEL_96ce6f2a3c1247dd9d2a29d5c506e970",
            "value": "100%"
          }
        },
        "5e08f998e17d49a8a9d1b2376076191b": {
          "model_module": "@jupyter-widgets/controls",
          "model_name": "FloatProgressModel",
          "model_module_version": "1.5.0",
          "state": {
            "_dom_classes": [],
            "_model_module": "@jupyter-widgets/controls",
            "_model_module_version": "1.5.0",
            "_model_name": "FloatProgressModel",
            "_view_count": null,
            "_view_module": "@jupyter-widgets/controls",
            "_view_module_version": "1.5.0",
            "_view_name": "ProgressView",
            "bar_style": "success",
            "description": "",
            "description_tooltip": null,
            "layout": "IPY_MODEL_e918ffc5b1fb456c9d582b695ee7aa77",
            "max": 5538128,
            "min": 0,
            "orientation": "horizontal",
            "style": "IPY_MODEL_f9618f0c0360452fbccb2161cf6a1964",
            "value": 5538128
          }
        },
        "1c8f8dbc445746cda332115be684fabc": {
          "model_module": "@jupyter-widgets/controls",
          "model_name": "HTMLModel",
          "model_module_version": "1.5.0",
          "state": {
            "_dom_classes": [],
            "_model_module": "@jupyter-widgets/controls",
            "_model_module_version": "1.5.0",
            "_model_name": "HTMLModel",
            "_view_count": null,
            "_view_module": "@jupyter-widgets/controls",
            "_view_module_version": "1.5.0",
            "_view_name": "HTMLView",
            "description": "",
            "description_tooltip": null,
            "layout": "IPY_MODEL_2af4c70a2c6a45e9a9d98d373cc63816",
            "placeholder": "​",
            "style": "IPY_MODEL_05ad41b7081f48638521c7e748d792f4",
            "value": " 5.28M/5.28M [00:00&lt;00:00, 85.0MB/s]"
          }
        },
        "261b521a64b24b9c9f8070b29fa2666c": {
          "model_module": "@jupyter-widgets/base",
          "model_name": "LayoutModel",
          "model_module_version": "1.2.0",
          "state": {
            "_model_module": "@jupyter-widgets/base",
            "_model_module_version": "1.2.0",
            "_model_name": "LayoutModel",
            "_view_count": null,
            "_view_module": "@jupyter-widgets/base",
            "_view_module_version": "1.2.0",
            "_view_name": "LayoutView",
            "align_content": null,
            "align_items": null,
            "align_self": null,
            "border": null,
            "bottom": null,
            "display": null,
            "flex": null,
            "flex_flow": null,
            "grid_area": null,
            "grid_auto_columns": null,
            "grid_auto_flow": null,
            "grid_auto_rows": null,
            "grid_column": null,
            "grid_gap": null,
            "grid_row": null,
            "grid_template_areas": null,
            "grid_template_columns": null,
            "grid_template_rows": null,
            "height": null,
            "justify_content": null,
            "justify_items": null,
            "left": null,
            "margin": null,
            "max_height": null,
            "max_width": null,
            "min_height": null,
            "min_width": null,
            "object_fit": null,
            "object_position": null,
            "order": null,
            "overflow": null,
            "overflow_x": null,
            "overflow_y": null,
            "padding": null,
            "right": null,
            "top": null,
            "visibility": null,
            "width": null
          }
        },
        "4b6f9a9767f74c60b3f02c17349f8e2a": {
          "model_module": "@jupyter-widgets/base",
          "model_name": "LayoutModel",
          "model_module_version": "1.2.0",
          "state": {
            "_model_module": "@jupyter-widgets/base",
            "_model_module_version": "1.2.0",
            "_model_name": "LayoutModel",
            "_view_count": null,
            "_view_module": "@jupyter-widgets/base",
            "_view_module_version": "1.2.0",
            "_view_name": "LayoutView",
            "align_content": null,
            "align_items": null,
            "align_self": null,
            "border": null,
            "bottom": null,
            "display": null,
            "flex": null,
            "flex_flow": null,
            "grid_area": null,
            "grid_auto_columns": null,
            "grid_auto_flow": null,
            "grid_auto_rows": null,
            "grid_column": null,
            "grid_gap": null,
            "grid_row": null,
            "grid_template_areas": null,
            "grid_template_columns": null,
            "grid_template_rows": null,
            "height": null,
            "justify_content": null,
            "justify_items": null,
            "left": null,
            "margin": null,
            "max_height": null,
            "max_width": null,
            "min_height": null,
            "min_width": null,
            "object_fit": null,
            "object_position": null,
            "order": null,
            "overflow": null,
            "overflow_x": null,
            "overflow_y": null,
            "padding": null,
            "right": null,
            "top": null,
            "visibility": null,
            "width": null
          }
        },
        "96ce6f2a3c1247dd9d2a29d5c506e970": {
          "model_module": "@jupyter-widgets/controls",
          "model_name": "DescriptionStyleModel",
          "model_module_version": "1.5.0",
          "state": {
            "_model_module": "@jupyter-widgets/controls",
            "_model_module_version": "1.5.0",
            "_model_name": "DescriptionStyleModel",
            "_view_count": null,
            "_view_module": "@jupyter-widgets/base",
            "_view_module_version": "1.2.0",
            "_view_name": "StyleView",
            "description_width": ""
          }
        },
        "e918ffc5b1fb456c9d582b695ee7aa77": {
          "model_module": "@jupyter-widgets/base",
          "model_name": "LayoutModel",
          "model_module_version": "1.2.0",
          "state": {
            "_model_module": "@jupyter-widgets/base",
            "_model_module_version": "1.2.0",
            "_model_name": "LayoutModel",
            "_view_count": null,
            "_view_module": "@jupyter-widgets/base",
            "_view_module_version": "1.2.0",
            "_view_name": "LayoutView",
            "align_content": null,
            "align_items": null,
            "align_self": null,
            "border": null,
            "bottom": null,
            "display": null,
            "flex": null,
            "flex_flow": null,
            "grid_area": null,
            "grid_auto_columns": null,
            "grid_auto_flow": null,
            "grid_auto_rows": null,
            "grid_column": null,
            "grid_gap": null,
            "grid_row": null,
            "grid_template_areas": null,
            "grid_template_columns": null,
            "grid_template_rows": null,
            "height": null,
            "justify_content": null,
            "justify_items": null,
            "left": null,
            "margin": null,
            "max_height": null,
            "max_width": null,
            "min_height": null,
            "min_width": null,
            "object_fit": null,
            "object_position": null,
            "order": null,
            "overflow": null,
            "overflow_x": null,
            "overflow_y": null,
            "padding": null,
            "right": null,
            "top": null,
            "visibility": null,
            "width": null
          }
        },
        "f9618f0c0360452fbccb2161cf6a1964": {
          "model_module": "@jupyter-widgets/controls",
          "model_name": "ProgressStyleModel",
          "model_module_version": "1.5.0",
          "state": {
            "_model_module": "@jupyter-widgets/controls",
            "_model_module_version": "1.5.0",
            "_model_name": "ProgressStyleModel",
            "_view_count": null,
            "_view_module": "@jupyter-widgets/base",
            "_view_module_version": "1.2.0",
            "_view_name": "StyleView",
            "bar_color": null,
            "description_width": ""
          }
        },
        "2af4c70a2c6a45e9a9d98d373cc63816": {
          "model_module": "@jupyter-widgets/base",
          "model_name": "LayoutModel",
          "model_module_version": "1.2.0",
          "state": {
            "_model_module": "@jupyter-widgets/base",
            "_model_module_version": "1.2.0",
            "_model_name": "LayoutModel",
            "_view_count": null,
            "_view_module": "@jupyter-widgets/base",
            "_view_module_version": "1.2.0",
            "_view_name": "LayoutView",
            "align_content": null,
            "align_items": null,
            "align_self": null,
            "border": null,
            "bottom": null,
            "display": null,
            "flex": null,
            "flex_flow": null,
            "grid_area": null,
            "grid_auto_columns": null,
            "grid_auto_flow": null,
            "grid_auto_rows": null,
            "grid_column": null,
            "grid_gap": null,
            "grid_row": null,
            "grid_template_areas": null,
            "grid_template_columns": null,
            "grid_template_rows": null,
            "height": null,
            "justify_content": null,
            "justify_items": null,
            "left": null,
            "margin": null,
            "max_height": null,
            "max_width": null,
            "min_height": null,
            "min_width": null,
            "object_fit": null,
            "object_position": null,
            "order": null,
            "overflow": null,
            "overflow_x": null,
            "overflow_y": null,
            "padding": null,
            "right": null,
            "top": null,
            "visibility": null,
            "width": null
          }
        },
        "05ad41b7081f48638521c7e748d792f4": {
          "model_module": "@jupyter-widgets/controls",
          "model_name": "DescriptionStyleModel",
          "model_module_version": "1.5.0",
          "state": {
            "_model_module": "@jupyter-widgets/controls",
            "_model_module_version": "1.5.0",
            "_model_name": "DescriptionStyleModel",
            "_view_count": null,
            "_view_module": "@jupyter-widgets/base",
            "_view_module_version": "1.2.0",
            "_view_name": "StyleView",
            "description_width": ""
          }
        }
      }
    }
  },
  "nbformat": 4,
  "nbformat_minor": 0
}